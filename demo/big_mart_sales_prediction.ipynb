{
  "cells": [
    {
      "cell_type": "markdown",
      "id": "competitive-keyboard",
      "metadata": {
        "_cell_guid": "b1076dfc-b9ad-4769-8c92-a6c4dae69d19",
        "_uuid": "8f2839f25d086af736a60e9eeb907d3b93b6e0e5",
        "id": "competitive-keyboard",
        "papermill": {
          "duration": 0.025978,
          "end_time": "2021-05-30T20:24:13.644140",
          "exception": false,
          "start_time": "2021-05-30T20:24:13.618162",
          "status": "completed"
        },
        "tags": []
      },
      "source": [
        "# **Project Scope**\n",
        "\n",
        "Having a well-defined structure before performing a task helps in efficient execution of the task. This is true even in cases of building a machine learning model. Once you have built a model on a dataset, you can easily break down the steps and define a structured Machine learning pipeline.\n",
        "\n",
        "This notebook coveres the process of building an end-to-end Machine Learning pipeline and implementing it on  BigMart sales prediction dataset.\n"
      ]
    },
    {
      "cell_type": "markdown",
      "id": "ranging-chassis",
      "metadata": {
        "id": "ranging-chassis",
        "papermill": {
          "duration": 0.025093,
          "end_time": "2021-05-30T20:24:13.696281",
          "exception": false,
          "start_time": "2021-05-30T20:24:13.671188",
          "status": "completed"
        },
        "tags": []
      },
      "source": [
        "The dataset contains information about the stores, products and historical sales. We will predict the sales of the products in the stores.\n",
        "\n",
        "We will start by building a prototype machine learning pipeline that will help us define the actual machine learning pipeline."
      ]
    },
    {
      "cell_type": "code",
      "execution_count": 1,
      "id": "binary-innocent",
      "metadata": {
        "execution": {
          "iopub.execute_input": "2021-05-30T20:24:13.752152Z",
          "iopub.status.busy": "2021-05-30T20:24:13.751659Z",
          "iopub.status.idle": "2021-05-30T20:24:13.755670Z",
          "shell.execute_reply": "2021-05-30T20:24:13.755098Z",
          "shell.execute_reply.started": "2021-05-30T20:23:07.524622Z"
        },
        "id": "binary-innocent",
        "papermill": {
          "duration": 0.034466,
          "end_time": "2021-05-30T20:24:13.755790",
          "exception": false,
          "start_time": "2021-05-30T20:24:13.721324",
          "status": "completed"
        },
        "tags": []
      },
      "outputs": [],
      "source": [
        "#Importing libraries\n",
        "import os\n",
        "import pandas as pd\n",
        "import numpy as np\n",
        "import matplotlib.pyplot as plt\n",
        "%matplotlib inline"
      ]
    },
    {
      "cell_type": "markdown",
      "id": "victorian-object",
      "metadata": {
        "id": "victorian-object",
        "papermill": {
          "duration": 0.024726,
          "end_time": "2021-05-30T20:24:13.806185",
          "exception": false,
          "start_time": "2021-05-30T20:24:13.781459",
          "status": "completed"
        },
        "tags": []
      },
      "source": [
        "# Data Exploration and Preprocessing"
      ]
    },
    {
      "cell_type": "code",
      "execution_count": 2,
      "id": "ready-jamaica",
      "metadata": {
        "execution": {
          "iopub.execute_input": "2021-05-30T20:24:13.860887Z",
          "iopub.status.busy": "2021-05-30T20:24:13.860366Z",
          "iopub.status.idle": "2021-05-30T20:24:13.906798Z",
          "shell.execute_reply": "2021-05-30T20:24:13.906314Z",
          "shell.execute_reply.started": "2021-05-30T20:23:07.532980Z"
        },
        "id": "ready-jamaica",
        "papermill": {
          "duration": 0.07513,
          "end_time": "2021-05-30T20:24:13.906920",
          "exception": false,
          "start_time": "2021-05-30T20:24:13.831790",
          "status": "completed"
        },
        "tags": []
      },
      "outputs": [],
      "source": [
        "#loading train data\n",
        "train = pd.read_csv(\"Train.csv\")\n",
        "test = pd.read_csv(\"Test.csv\")"
      ]
    },
    {
      "cell_type": "code",
      "execution_count": 3,
      "id": "fresh-incidence",
      "metadata": {
        "colab": {
          "base_uri": "https://localhost:8080/"
        },
        "execution": {
          "iopub.execute_input": "2021-05-30T20:24:13.961199Z",
          "iopub.status.busy": "2021-05-30T20:24:13.960732Z",
          "iopub.status.idle": "2021-05-30T20:24:13.982466Z",
          "shell.execute_reply": "2021-05-30T20:24:13.981908Z",
          "shell.execute_reply.started": "2021-05-30T20:23:07.606098Z"
        },
        "id": "fresh-incidence",
        "outputId": "c7000f1e-cb49-496f-e31d-98996c218456",
        "papermill": {
          "duration": 0.05026,
          "end_time": "2021-05-30T20:24:13.982580",
          "exception": false,
          "start_time": "2021-05-30T20:24:13.932320",
          "status": "completed"
        },
        "tags": []
      },
      "outputs": [
        {
          "name": "stdout",
          "output_type": "stream",
          "text": [
            "Train:\n",
            "\n",
            "Outlet_Size                  2410\n",
            "Item_Weight                  1463\n",
            "Item_Identifier                 0\n",
            "Item_Fat_Content                0\n",
            "Item_Visibility                 0\n",
            "Item_Type                       0\n",
            "Item_MRP                        0\n",
            "Outlet_Identifier               0\n",
            "Outlet_Establishment_Year       0\n",
            "Outlet_Location_Type            0\n",
            "Outlet_Type                     0\n",
            "Item_Outlet_Sales               0\n",
            "dtype: int64 \n",
            "\n",
            " Item_Identifier               0.000000\n",
            "Item_Weight                  17.165317\n",
            "Item_Fat_Content              0.000000\n",
            "Item_Visibility               0.000000\n",
            "Item_Type                     0.000000\n",
            "Item_MRP                      0.000000\n",
            "Outlet_Identifier             0.000000\n",
            "Outlet_Establishment_Year     0.000000\n",
            "Outlet_Size                  28.276428\n",
            "Outlet_Location_Type          0.000000\n",
            "Outlet_Type                   0.000000\n",
            "Item_Outlet_Sales             0.000000\n",
            "dtype: float64 \n",
            "\n",
            "\n",
            "Test:\n",
            "\n",
            "Outlet_Size                  1606\n",
            "Item_Weight                   976\n",
            "Item_Identifier                 0\n",
            "Item_Fat_Content                0\n",
            "Item_Visibility                 0\n",
            "Item_Type                       0\n",
            "Item_MRP                        0\n",
            "Outlet_Identifier               0\n",
            "Outlet_Establishment_Year       0\n",
            "Outlet_Location_Type            0\n",
            "Outlet_Type                     0\n",
            "dtype: int64 \n",
            "\n",
            " Item_Identifier               0.000000\n",
            "Item_Weight                  17.180074\n",
            "Item_Fat_Content              0.000000\n",
            "Item_Visibility               0.000000\n",
            "Item_Type                     0.000000\n",
            "Item_MRP                      0.000000\n",
            "Outlet_Identifier             0.000000\n",
            "Outlet_Establishment_Year     0.000000\n",
            "Outlet_Size                  28.269671\n",
            "Outlet_Location_Type          0.000000\n",
            "Outlet_Type                   0.000000\n",
            "dtype: float64 \n",
            "\n",
            "\n"
          ]
        }
      ],
      "source": [
        "#check for missing values\n",
        "print(\"Train:\\n\")\n",
        "print(train.isnull().sum().sort_values(ascending=False),\"\\n\\n\",train.isnull().sum()/train.shape[0] *100,\"\\n\\n\")\n",
        "print(\"Test:\\n\")\n",
        "print(test.isnull().sum().sort_values(ascending=False),\"\\n\\n\",test.isnull().sum()/test.shape[0] *100,\"\\n\\n\")\n"
      ]
    },
    {
      "cell_type": "markdown",
      "id": "attempted-hawaii",
      "metadata": {
        "id": "attempted-hawaii",
        "papermill": {
          "duration": 0.025643,
          "end_time": "2021-05-30T20:24:14.034407",
          "exception": false,
          "start_time": "2021-05-30T20:24:14.008764",
          "status": "completed"
        },
        "tags": []
      },
      "source": [
        "Only Item_Weight and Outlet_Size have missing values.\n",
        "\n",
        "Item_Weight is a continuous variable. We can use either mean or median to impute the missing values, but here we will use mean.\n",
        "\n",
        "Outlet_Size is a categorical variable so will use mode to impute the missing values in the column."
      ]
    },
    {
      "cell_type": "code",
      "execution_count": 4,
      "id": "coral-strap",
      "metadata": {
        "colab": {
          "base_uri": "https://localhost:8080/"
        },
        "execution": {
          "iopub.execute_input": "2021-05-30T20:24:14.094910Z",
          "iopub.status.busy": "2021-05-30T20:24:14.094267Z",
          "iopub.status.idle": "2021-05-30T20:24:14.097643Z",
          "shell.execute_reply": "2021-05-30T20:24:14.097159Z",
          "shell.execute_reply.started": "2021-05-30T20:23:07.633265Z"
        },
        "id": "coral-strap",
        "outputId": "3058365e-68de-41b7-9d2d-436642ac1d7c",
        "papermill": {
          "duration": 0.037843,
          "end_time": "2021-05-30T20:24:14.097746",
          "exception": false,
          "start_time": "2021-05-30T20:24:14.059903",
          "status": "completed"
        },
        "tags": []
      },
      "outputs": [
        {
          "data": {
            "text/plain": [
              "(0, 0)"
            ]
          },
          "execution_count": 4,
          "metadata": {},
          "output_type": "execute_result"
        }
      ],
      "source": [
        "#impute missing values in Item_Weight using mean\n",
        "#train\n",
        "train['Item_Weight'] = train['Item_Weight'].fillna(\n",
        "train['Item_Weight'].dropna().mean())\n",
        "\n",
        "#test\n",
        "test['Item_Weight'] = test['Item_Weight'].fillna(\n",
        "test['Item_Weight'].dropna().mean())\n",
        "\n",
        "#checking if we filled missing values\n",
        "train['Item_Weight'].isnull().sum(),test['Item_Weight'].isnull().sum()"
      ]
    },
    {
      "cell_type": "code",
      "execution_count": 5,
      "id": "exterior-floor",
      "metadata": {
        "colab": {
          "base_uri": "https://localhost:8080/"
        },
        "execution": {
          "iopub.execute_input": "2021-05-30T20:24:14.153609Z",
          "iopub.status.busy": "2021-05-30T20:24:14.152944Z",
          "iopub.status.idle": "2021-05-30T20:24:14.164155Z",
          "shell.execute_reply": "2021-05-30T20:24:14.163728Z",
          "shell.execute_reply.started": "2021-05-30T20:23:07.647762Z"
        },
        "id": "exterior-floor",
        "outputId": "4fa8ac98-f0c9-4f70-abf6-cb1dd169dce6",
        "papermill": {
          "duration": 0.03983,
          "end_time": "2021-05-30T20:24:14.164267",
          "exception": false,
          "start_time": "2021-05-30T20:24:14.124437",
          "status": "completed"
        },
        "tags": []
      },
      "outputs": [
        {
          "data": {
            "text/plain": [
              "(0, 0)"
            ]
          },
          "execution_count": 5,
          "metadata": {},
          "output_type": "execute_result"
        }
      ],
      "source": [
        "#impute missing values in Outlet_Size using mode\n",
        "#train\n",
        "train['Outlet_Size'] = train['Outlet_Size'].fillna(train['Outlet_Size'].dropna().mode().values[0])\n",
        "#test\n",
        "test['Outlet_Size'] = test['Outlet_Size'].fillna(test['Outlet_Size'].dropna().mode().values[0])\n",
        "#checking if we filled missing values\n",
        "train['Outlet_Size'].isnull().sum(),test['Outlet_Size'].isnull().sum()"
      ]
    },
    {
      "cell_type": "markdown",
      "id": "israeli-spotlight",
      "metadata": {
        "id": "israeli-spotlight",
        "papermill": {
          "duration": 0.026263,
          "end_time": "2021-05-30T20:24:14.217253",
          "exception": false,
          "start_time": "2021-05-30T20:24:14.190990",
          "status": "completed"
        },
        "tags": []
      },
      "source": [
        "Machine learning models cannot work with categorical(string) data. We will convert the categorical variables into numeric types."
      ]
    },
    {
      "cell_type": "code",
      "execution_count": 6,
      "id": "dcKTpqXgDFfS",
      "metadata": {
        "colab": {
          "base_uri": "https://localhost:8080/"
        },
        "id": "dcKTpqXgDFfS",
        "outputId": "16015a58-f136-4132-f8df-5145d944afde"
      },
      "outputs": [
        {
          "data": {
            "text/plain": [
              "[Item_Fat_Content\n",
              " Low Fat    5089\n",
              " Regular    2889\n",
              " LF          316\n",
              " reg         117\n",
              " low fat     112\n",
              " Name: count, dtype: int64,\n",
              " Item_Type\n",
              " Fruits and Vegetables    1232\n",
              " Snack Foods              1200\n",
              " Household                 910\n",
              " Frozen Foods              856\n",
              " Dairy                     682\n",
              " Canned                    649\n",
              " Baking Goods              648\n",
              " Health and Hygiene        520\n",
              " Soft Drinks               445\n",
              " Meat                      425\n",
              " Breads                    251\n",
              " Hard Drinks               214\n",
              " Others                    169\n",
              " Starchy Foods             148\n",
              " Breakfast                 110\n",
              " Seafood                    64\n",
              " Name: count, dtype: int64,\n",
              " Outlet_Identifier\n",
              " OUT027    935\n",
              " OUT013    932\n",
              " OUT049    930\n",
              " OUT046    930\n",
              " OUT035    930\n",
              " OUT045    929\n",
              " OUT018    928\n",
              " OUT017    926\n",
              " OUT010    555\n",
              " OUT019    528\n",
              " Name: count, dtype: int64,\n",
              " Outlet_Size\n",
              " Medium    5203\n",
              " Small     2388\n",
              " High       932\n",
              " Name: count, dtype: int64,\n",
              " Outlet_Location_Type\n",
              " Tier 3    3350\n",
              " Tier 2    2785\n",
              " Tier 1    2388\n",
              " Name: count, dtype: int64,\n",
              " Outlet_Type\n",
              " Supermarket Type1    5577\n",
              " Grocery Store        1083\n",
              " Supermarket Type3     935\n",
              " Supermarket Type2     928\n",
              " Name: count, dtype: int64]"
            ]
          },
          "execution_count": 6,
          "metadata": {},
          "output_type": "execute_result"
        }
      ],
      "source": [
        "#list of all the numeric columns\n",
        "num = train.select_dtypes('number').columns.to_list()\n",
        "#list of all the categoric columns\n",
        "cat = train.select_dtypes('object').columns.to_list()\n",
        "\n",
        "#numeric df\n",
        "BM_num =  train[num]\n",
        "#categoric df\n",
        "BM_cat = train[cat]\n",
        "#checking categorical variables in the data\n",
        "[train[category].value_counts() for category in cat[1:]]"
      ]
    },
    {
      "cell_type": "code",
      "execution_count": 7,
      "id": "b8mULAlCDAog",
      "metadata": {
        "colab": {
          "base_uri": "https://localhost:8080/"
        },
        "id": "b8mULAlCDAog",
        "outputId": "5f1eb0a2-06c6-438d-cefa-378e7c2f073c"
      },
      "outputs": [
        {
          "data": {
            "text/plain": [
              "Item_Fat_Content\n",
              "Low Fat    5517\n",
              "Regular    3006\n",
              "Name: count, dtype: int64"
            ]
          },
          "execution_count": 7,
          "metadata": {},
          "output_type": "execute_result"
        }
      ],
      "source": [
        "#train\n",
        "train['Item_Fat_Content'].replace(['LF', 'low fat', 'reg'], \n",
        "                                  ['Low Fat','Low Fat','Regular'],inplace = True)\n",
        "#test\n",
        "test['Item_Fat_Content'].replace(['LF', 'low fat', 'reg'], \n",
        "                                  ['Low Fat','Low Fat','Regular'],inplace = True)\n",
        "\n",
        "#check result\n",
        "train.Item_Fat_Content.value_counts()"
      ]
    },
    {
      "cell_type": "code",
      "execution_count": 8,
      "id": "sO07oJgNFR9P",
      "metadata": {
        "colab": {
          "base_uri": "https://localhost:8080/",
          "height": 357
        },
        "id": "sO07oJgNFR9P",
        "outputId": "46ca4f4d-0e79-45a7-b1b4-0bfa7d849931"
      },
      "outputs": [
        {
          "data": {
            "text/html": [
              "<div>\n",
              "<style scoped>\n",
              "    .dataframe tbody tr th:only-of-type {\n",
              "        vertical-align: middle;\n",
              "    }\n",
              "\n",
              "    .dataframe tbody tr th {\n",
              "        vertical-align: top;\n",
              "    }\n",
              "\n",
              "    .dataframe thead th {\n",
              "        text-align: right;\n",
              "    }\n",
              "</style>\n",
              "<table border=\"1\" class=\"dataframe\">\n",
              "  <thead>\n",
              "    <tr style=\"text-align: right;\">\n",
              "      <th></th>\n",
              "      <th>Item_Identifier</th>\n",
              "      <th>Item_Weight</th>\n",
              "      <th>Item_Fat_Content</th>\n",
              "      <th>Item_Visibility</th>\n",
              "      <th>Item_Type</th>\n",
              "      <th>Item_MRP</th>\n",
              "      <th>Outlet_Identifier</th>\n",
              "      <th>Outlet_Establishment_Year</th>\n",
              "      <th>Outlet_Size</th>\n",
              "      <th>Outlet_Location_Type</th>\n",
              "      <th>Outlet_Type</th>\n",
              "      <th>Item_Outlet_Sales</th>\n",
              "    </tr>\n",
              "  </thead>\n",
              "  <tbody>\n",
              "    <tr>\n",
              "      <th>0</th>\n",
              "      <td>FDA15</td>\n",
              "      <td>9.30</td>\n",
              "      <td>Low Fat</td>\n",
              "      <td>0.016047</td>\n",
              "      <td>Dairy</td>\n",
              "      <td>249.8092</td>\n",
              "      <td>OUT049</td>\n",
              "      <td>1999</td>\n",
              "      <td>Medium</td>\n",
              "      <td>Tier 1</td>\n",
              "      <td>Supermarket Type1</td>\n",
              "      <td>3735.1380</td>\n",
              "    </tr>\n",
              "    <tr>\n",
              "      <th>1</th>\n",
              "      <td>DRC01</td>\n",
              "      <td>5.92</td>\n",
              "      <td>Regular</td>\n",
              "      <td>0.019278</td>\n",
              "      <td>Soft Drinks</td>\n",
              "      <td>48.2692</td>\n",
              "      <td>OUT018</td>\n",
              "      <td>2009</td>\n",
              "      <td>Medium</td>\n",
              "      <td>Tier 3</td>\n",
              "      <td>Supermarket Type2</td>\n",
              "      <td>443.4228</td>\n",
              "    </tr>\n",
              "    <tr>\n",
              "      <th>2</th>\n",
              "      <td>FDN15</td>\n",
              "      <td>17.50</td>\n",
              "      <td>Low Fat</td>\n",
              "      <td>0.016760</td>\n",
              "      <td>Meat</td>\n",
              "      <td>141.6180</td>\n",
              "      <td>OUT049</td>\n",
              "      <td>1999</td>\n",
              "      <td>Medium</td>\n",
              "      <td>Tier 1</td>\n",
              "      <td>Supermarket Type1</td>\n",
              "      <td>2097.2700</td>\n",
              "    </tr>\n",
              "    <tr>\n",
              "      <th>3</th>\n",
              "      <td>FDX07</td>\n",
              "      <td>19.20</td>\n",
              "      <td>Regular</td>\n",
              "      <td>0.000000</td>\n",
              "      <td>Fruits and Vegetables</td>\n",
              "      <td>182.0950</td>\n",
              "      <td>OUT010</td>\n",
              "      <td>1998</td>\n",
              "      <td>Medium</td>\n",
              "      <td>Tier 3</td>\n",
              "      <td>Grocery Store</td>\n",
              "      <td>732.3800</td>\n",
              "    </tr>\n",
              "    <tr>\n",
              "      <th>4</th>\n",
              "      <td>NCD19</td>\n",
              "      <td>8.93</td>\n",
              "      <td>Low Fat</td>\n",
              "      <td>0.000000</td>\n",
              "      <td>Household</td>\n",
              "      <td>53.8614</td>\n",
              "      <td>OUT013</td>\n",
              "      <td>1987</td>\n",
              "      <td>High</td>\n",
              "      <td>Tier 3</td>\n",
              "      <td>Supermarket Type1</td>\n",
              "      <td>994.7052</td>\n",
              "    </tr>\n",
              "  </tbody>\n",
              "</table>\n",
              "</div>"
            ],
            "text/plain": [
              "  Item_Identifier  Item_Weight Item_Fat_Content  Item_Visibility   \n",
              "0           FDA15         9.30          Low Fat         0.016047  \\\n",
              "1           DRC01         5.92          Regular         0.019278   \n",
              "2           FDN15        17.50          Low Fat         0.016760   \n",
              "3           FDX07        19.20          Regular         0.000000   \n",
              "4           NCD19         8.93          Low Fat         0.000000   \n",
              "\n",
              "               Item_Type  Item_MRP Outlet_Identifier   \n",
              "0                  Dairy  249.8092            OUT049  \\\n",
              "1            Soft Drinks   48.2692            OUT018   \n",
              "2                   Meat  141.6180            OUT049   \n",
              "3  Fruits and Vegetables  182.0950            OUT010   \n",
              "4              Household   53.8614            OUT013   \n",
              "\n",
              "   Outlet_Establishment_Year Outlet_Size Outlet_Location_Type   \n",
              "0                       1999      Medium               Tier 1  \\\n",
              "1                       2009      Medium               Tier 3   \n",
              "2                       1999      Medium               Tier 1   \n",
              "3                       1998      Medium               Tier 3   \n",
              "4                       1987        High               Tier 3   \n",
              "\n",
              "         Outlet_Type  Item_Outlet_Sales  \n",
              "0  Supermarket Type1          3735.1380  \n",
              "1  Supermarket Type2           443.4228  \n",
              "2  Supermarket Type1          2097.2700  \n",
              "3      Grocery Store           732.3800  \n",
              "4  Supermarket Type1           994.7052  "
            ]
          },
          "execution_count": 8,
          "metadata": {},
          "output_type": "execute_result"
        }
      ],
      "source": [
        "train.head()"
      ]
    },
    {
      "cell_type": "code",
      "execution_count": 9,
      "id": "hVPp-aA-Gxen",
      "metadata": {
        "colab": {
          "base_uri": "https://localhost:8080/"
        },
        "id": "hVPp-aA-Gxen",
        "outputId": "aa6a0973-ba4f-4fa2-b5e5-3e001e4ec216"
      },
      "outputs": [
        {
          "data": {
            "text/plain": [
              "<bound method NDFrame.head of 0       21\n",
              "1       13\n",
              "2       22\n",
              "3       13\n",
              "4       35\n",
              "        ..\n",
              "5676    23\n",
              "5677    11\n",
              "5678    18\n",
              "5679    13\n",
              "5680    18\n",
              "Name: Outlet_Age, Length: 5681, dtype: int64>"
            ]
          },
          "execution_count": 9,
          "metadata": {},
          "output_type": "execute_result"
        }
      ],
      "source": [
        "#creating our new column for both datasets\n",
        "train['Outlet_Age'], test['Outlet_Age']= train['Outlet_Establishment_Year'].apply(lambda year: 2020 - year), test['Outlet_Establishment_Year'].apply(lambda year: 2020 - year)\n",
        "\n",
        "#uncomment to check result\n",
        "train['Outlet_Age'].head\n",
        "test['Outlet_Age'].head"
      ]
    },
    {
      "cell_type": "markdown",
      "id": "julian-account",
      "metadata": {
        "id": "julian-account",
        "papermill": {
          "duration": 0.025879,
          "end_time": "2021-05-30T20:24:14.334711",
          "exception": false,
          "start_time": "2021-05-30T20:24:14.308832",
          "status": "completed"
        },
        "tags": []
      },
      "source": [
        "Our data has the following categorical variables\n",
        "\n",
        "* Item_Identifier\n",
        "* Item_Fat_Content\n",
        "* Item_Type\n",
        "* Outlet_Identifier\n",
        "* Outlet_Size\n",
        "* Outlet_Type\n",
        "* Outlet_Location_Type\n",
        "\n",
        "We will use the categorical_encorders library to convert these variables into binary variables. We will not convert Item_Identifier."
      ]
    },
    {
      "cell_type": "code",
      "execution_count": 10,
      "id": "cardiac-canberra",
      "metadata": {
        "colab": {
          "base_uri": "https://localhost:8080/",
          "height": 357
        },
        "execution": {
          "iopub.execute_input": "2021-05-30T20:24:14.393549Z",
          "iopub.status.busy": "2021-05-30T20:24:14.392985Z",
          "iopub.status.idle": "2021-05-30T20:24:15.701677Z",
          "shell.execute_reply": "2021-05-30T20:24:15.700500Z",
          "shell.execute_reply.started": "2021-05-30T20:23:07.678230Z"
        },
        "id": "cardiac-canberra",
        "outputId": "b49519c5-44b3-46cb-ad2a-886b2996293d",
        "papermill": {
          "duration": 1.339854,
          "end_time": "2021-05-30T20:24:15.701848",
          "exception": false,
          "start_time": "2021-05-30T20:24:14.361994",
          "status": "completed"
        },
        "tags": []
      },
      "outputs": [
        {
          "data": {
            "text/html": [
              "<div>\n",
              "<style scoped>\n",
              "    .dataframe tbody tr th:only-of-type {\n",
              "        vertical-align: middle;\n",
              "    }\n",
              "\n",
              "    .dataframe tbody tr th {\n",
              "        vertical-align: top;\n",
              "    }\n",
              "\n",
              "    .dataframe thead th {\n",
              "        text-align: right;\n",
              "    }\n",
              "</style>\n",
              "<table border=\"1\" class=\"dataframe\">\n",
              "  <thead>\n",
              "    <tr style=\"text-align: right;\">\n",
              "      <th></th>\n",
              "      <th>Item_Identifier</th>\n",
              "      <th>Item_Weight</th>\n",
              "      <th>Item_Fat_Content</th>\n",
              "      <th>Item_Visibility</th>\n",
              "      <th>Item_Type</th>\n",
              "      <th>Item_MRP</th>\n",
              "      <th>Outlet_Identifier</th>\n",
              "      <th>Outlet_Establishment_Year</th>\n",
              "      <th>Outlet_Size</th>\n",
              "      <th>Outlet_Location_Type</th>\n",
              "      <th>Outlet_Type</th>\n",
              "      <th>Item_Outlet_Sales</th>\n",
              "      <th>Outlet_Age</th>\n",
              "    </tr>\n",
              "  </thead>\n",
              "  <tbody>\n",
              "    <tr>\n",
              "      <th>0</th>\n",
              "      <td>FDA15</td>\n",
              "      <td>9.30</td>\n",
              "      <td>0</td>\n",
              "      <td>0.016047</td>\n",
              "      <td>Dairy</td>\n",
              "      <td>249.8092</td>\n",
              "      <td>OUT049</td>\n",
              "      <td>1999</td>\n",
              "      <td>1</td>\n",
              "      <td>0</td>\n",
              "      <td>Supermarket Type1</td>\n",
              "      <td>3735.1380</td>\n",
              "      <td>21</td>\n",
              "    </tr>\n",
              "    <tr>\n",
              "      <th>1</th>\n",
              "      <td>DRC01</td>\n",
              "      <td>5.92</td>\n",
              "      <td>1</td>\n",
              "      <td>0.019278</td>\n",
              "      <td>Soft Drinks</td>\n",
              "      <td>48.2692</td>\n",
              "      <td>OUT018</td>\n",
              "      <td>2009</td>\n",
              "      <td>1</td>\n",
              "      <td>2</td>\n",
              "      <td>Supermarket Type2</td>\n",
              "      <td>443.4228</td>\n",
              "      <td>11</td>\n",
              "    </tr>\n",
              "    <tr>\n",
              "      <th>2</th>\n",
              "      <td>FDN15</td>\n",
              "      <td>17.50</td>\n",
              "      <td>0</td>\n",
              "      <td>0.016760</td>\n",
              "      <td>Meat</td>\n",
              "      <td>141.6180</td>\n",
              "      <td>OUT049</td>\n",
              "      <td>1999</td>\n",
              "      <td>1</td>\n",
              "      <td>0</td>\n",
              "      <td>Supermarket Type1</td>\n",
              "      <td>2097.2700</td>\n",
              "      <td>21</td>\n",
              "    </tr>\n",
              "    <tr>\n",
              "      <th>3</th>\n",
              "      <td>FDX07</td>\n",
              "      <td>19.20</td>\n",
              "      <td>1</td>\n",
              "      <td>0.000000</td>\n",
              "      <td>Fruits and Vegetables</td>\n",
              "      <td>182.0950</td>\n",
              "      <td>OUT010</td>\n",
              "      <td>1998</td>\n",
              "      <td>1</td>\n",
              "      <td>2</td>\n",
              "      <td>Grocery Store</td>\n",
              "      <td>732.3800</td>\n",
              "      <td>22</td>\n",
              "    </tr>\n",
              "    <tr>\n",
              "      <th>4</th>\n",
              "      <td>NCD19</td>\n",
              "      <td>8.93</td>\n",
              "      <td>0</td>\n",
              "      <td>0.000000</td>\n",
              "      <td>Household</td>\n",
              "      <td>53.8614</td>\n",
              "      <td>OUT013</td>\n",
              "      <td>1987</td>\n",
              "      <td>0</td>\n",
              "      <td>2</td>\n",
              "      <td>Supermarket Type1</td>\n",
              "      <td>994.7052</td>\n",
              "      <td>33</td>\n",
              "    </tr>\n",
              "  </tbody>\n",
              "</table>\n",
              "</div>"
            ],
            "text/plain": [
              "  Item_Identifier  Item_Weight  Item_Fat_Content  Item_Visibility   \n",
              "0           FDA15         9.30                 0         0.016047  \\\n",
              "1           DRC01         5.92                 1         0.019278   \n",
              "2           FDN15        17.50                 0         0.016760   \n",
              "3           FDX07        19.20                 1         0.000000   \n",
              "4           NCD19         8.93                 0         0.000000   \n",
              "\n",
              "               Item_Type  Item_MRP Outlet_Identifier   \n",
              "0                  Dairy  249.8092            OUT049  \\\n",
              "1            Soft Drinks   48.2692            OUT018   \n",
              "2                   Meat  141.6180            OUT049   \n",
              "3  Fruits and Vegetables  182.0950            OUT010   \n",
              "4              Household   53.8614            OUT013   \n",
              "\n",
              "   Outlet_Establishment_Year  Outlet_Size  Outlet_Location_Type   \n",
              "0                       1999            1                     0  \\\n",
              "1                       2009            1                     2   \n",
              "2                       1999            1                     0   \n",
              "3                       1998            1                     2   \n",
              "4                       1987            0                     2   \n",
              "\n",
              "         Outlet_Type  Item_Outlet_Sales  Outlet_Age  \n",
              "0  Supermarket Type1          3735.1380          21  \n",
              "1  Supermarket Type2           443.4228          11  \n",
              "2  Supermarket Type1          2097.2700          21  \n",
              "3      Grocery Store           732.3800          22  \n",
              "4  Supermarket Type1           994.7052          33  "
            ]
          },
          "execution_count": 10,
          "metadata": {},
          "output_type": "execute_result"
        }
      ],
      "source": [
        "from sklearn.preprocessing import OneHotEncoder,LabelEncoder\n",
        "#Label Encoding\n",
        "le = LabelEncoder()\n",
        "Label = ['Item_Fat_Content','Outlet_Size','Outlet_Location_Type']\n",
        "\n",
        "for i in Label:\n",
        "    train[i] = le.fit_transform(train[i])\n",
        "    test[i] = le.fit_transform(test[i])\n",
        "    \n",
        "train.head()"
      ]
    },
    {
      "cell_type": "code",
      "execution_count": 11,
      "id": "h-Oi6gpOWcx7",
      "metadata": {
        "colab": {
          "base_uri": "https://localhost:8080/"
        },
        "id": "h-Oi6gpOWcx7",
        "outputId": "93ff0ad6-4ca4-44fe-d8d2-cb7b03905846"
      },
      "outputs": [
        {
          "data": {
            "text/plain": [
              "(8523, 13)"
            ]
          },
          "execution_count": 11,
          "metadata": {},
          "output_type": "execute_result"
        }
      ],
      "source": [
        "train.shape"
      ]
    },
    {
      "cell_type": "code",
      "execution_count": 12,
      "id": "i4HD7IkFXkBj",
      "metadata": {
        "colab": {
          "base_uri": "https://localhost:8080/"
        },
        "id": "i4HD7IkFXkBj",
        "outputId": "bafdf56a-dbcc-4a15-c1d6-9c1fb048e8f7"
      },
      "outputs": [
        {
          "data": {
            "text/plain": [
              "Item_Identifier         1559\n",
              "Item_Fat_Content           5\n",
              "Item_Type                 16\n",
              "Outlet_Identifier         10\n",
              "Outlet_Size                3\n",
              "Outlet_Location_Type       3\n",
              "Outlet_Type                4\n",
              "dtype: int64"
            ]
          },
          "execution_count": 12,
          "metadata": {},
          "output_type": "execute_result"
        }
      ],
      "source": [
        "BM_cat.apply(lambda x: x.nunique())"
      ]
    },
    {
      "cell_type": "code",
      "execution_count": 18,
      "id": "h-HPNDGqLMam",
      "metadata": {
        "colab": {
          "base_uri": "https://localhost:8080/"
        },
        "id": "h-HPNDGqLMam",
        "outputId": "14343f23-36a1-4f3b-a2e3-8d1a8d120a7a"
      },
      "outputs": [],
      "source": [
        "#one hot encoding\n",
        "cols = ['Item_Type','Outlet_Type']\n",
        "# Apply one-hot encoder\n",
        "OH_encoder = OneHotEncoder(handle_unknown='ignore', sparse_output=False)\n",
        "train_oh = pd.DataFrame(OH_encoder.fit_transform(train[cols])).astype('int64')\n",
        "test_oh = pd.DataFrame(OH_encoder.fit_transform(test[cols])).astype('int64')\n",
        "\n",
        "\n",
        "#get feature columns\n",
        "train_oh.columns = OH_encoder.get_feature_names_out(cols)\n",
        "test_oh.columns = OH_encoder.get_feature_names_out(cols)\n",
        "\n",
        "# One-hot encoding removed index; put it back\n",
        "train_oh.index = train.index\n",
        "test_oh.index = test.index\n",
        "\n",
        "# Add one-hot encoded columns to our main df new name: tr_fe, te_fe (means feature engeenired) \n",
        "train_fe = pd.concat([train, train_oh], axis=1)\n",
        "test_fe = pd.concat([test, test_oh], axis=1)"
      ]
    },
    {
      "cell_type": "code",
      "execution_count": 19,
      "id": "A7L3eyAkY8Xr",
      "metadata": {
        "id": "A7L3eyAkY8Xr"
      },
      "outputs": [],
      "source": [
        "train_fe  = train_fe.drop(['Item_Identifier','Outlet_Identifier','Outlet_Establishment_Year','Outlet_Type','Item_Type'],axis=1)\n",
        "test_fe = test_fe.drop(['Item_Identifier','Outlet_Identifier','Outlet_Establishment_Year','Outlet_Type','Item_Type'],axis=1)"
      ]
    },
    {
      "cell_type": "code",
      "execution_count": 20,
      "id": "WJvUvReLZEob",
      "metadata": {
        "colab": {
          "base_uri": "https://localhost:8080/",
          "height": 317
        },
        "id": "WJvUvReLZEob",
        "outputId": "c72ad39b-70aa-41a4-e67d-d649e8fc1f76"
      },
      "outputs": [
        {
          "data": {
            "text/html": [
              "<div>\n",
              "<style scoped>\n",
              "    .dataframe tbody tr th:only-of-type {\n",
              "        vertical-align: middle;\n",
              "    }\n",
              "\n",
              "    .dataframe tbody tr th {\n",
              "        vertical-align: top;\n",
              "    }\n",
              "\n",
              "    .dataframe thead th {\n",
              "        text-align: right;\n",
              "    }\n",
              "</style>\n",
              "<table border=\"1\" class=\"dataframe\">\n",
              "  <thead>\n",
              "    <tr style=\"text-align: right;\">\n",
              "      <th></th>\n",
              "      <th>Item_Weight</th>\n",
              "      <th>Item_Fat_Content</th>\n",
              "      <th>Item_Visibility</th>\n",
              "      <th>Item_MRP</th>\n",
              "      <th>Outlet_Size</th>\n",
              "      <th>Outlet_Location_Type</th>\n",
              "      <th>Item_Outlet_Sales</th>\n",
              "      <th>Outlet_Age</th>\n",
              "      <th>Item_Type_Baking Goods</th>\n",
              "      <th>Item_Type_Breads</th>\n",
              "      <th>...</th>\n",
              "      <th>Item_Type_Meat</th>\n",
              "      <th>Item_Type_Others</th>\n",
              "      <th>Item_Type_Seafood</th>\n",
              "      <th>Item_Type_Snack Foods</th>\n",
              "      <th>Item_Type_Soft Drinks</th>\n",
              "      <th>Item_Type_Starchy Foods</th>\n",
              "      <th>Outlet_Type_Grocery Store</th>\n",
              "      <th>Outlet_Type_Supermarket Type1</th>\n",
              "      <th>Outlet_Type_Supermarket Type2</th>\n",
              "      <th>Outlet_Type_Supermarket Type3</th>\n",
              "    </tr>\n",
              "  </thead>\n",
              "  <tbody>\n",
              "    <tr>\n",
              "      <th>0</th>\n",
              "      <td>9.30</td>\n",
              "      <td>0</td>\n",
              "      <td>0.016047</td>\n",
              "      <td>249.8092</td>\n",
              "      <td>1</td>\n",
              "      <td>0</td>\n",
              "      <td>3735.1380</td>\n",
              "      <td>21</td>\n",
              "      <td>0</td>\n",
              "      <td>0</td>\n",
              "      <td>...</td>\n",
              "      <td>0</td>\n",
              "      <td>0</td>\n",
              "      <td>0</td>\n",
              "      <td>0</td>\n",
              "      <td>0</td>\n",
              "      <td>0</td>\n",
              "      <td>0</td>\n",
              "      <td>1</td>\n",
              "      <td>0</td>\n",
              "      <td>0</td>\n",
              "    </tr>\n",
              "    <tr>\n",
              "      <th>1</th>\n",
              "      <td>5.92</td>\n",
              "      <td>1</td>\n",
              "      <td>0.019278</td>\n",
              "      <td>48.2692</td>\n",
              "      <td>1</td>\n",
              "      <td>2</td>\n",
              "      <td>443.4228</td>\n",
              "      <td>11</td>\n",
              "      <td>0</td>\n",
              "      <td>0</td>\n",
              "      <td>...</td>\n",
              "      <td>0</td>\n",
              "      <td>0</td>\n",
              "      <td>0</td>\n",
              "      <td>0</td>\n",
              "      <td>1</td>\n",
              "      <td>0</td>\n",
              "      <td>0</td>\n",
              "      <td>0</td>\n",
              "      <td>1</td>\n",
              "      <td>0</td>\n",
              "    </tr>\n",
              "    <tr>\n",
              "      <th>2</th>\n",
              "      <td>17.50</td>\n",
              "      <td>0</td>\n",
              "      <td>0.016760</td>\n",
              "      <td>141.6180</td>\n",
              "      <td>1</td>\n",
              "      <td>0</td>\n",
              "      <td>2097.2700</td>\n",
              "      <td>21</td>\n",
              "      <td>0</td>\n",
              "      <td>0</td>\n",
              "      <td>...</td>\n",
              "      <td>1</td>\n",
              "      <td>0</td>\n",
              "      <td>0</td>\n",
              "      <td>0</td>\n",
              "      <td>0</td>\n",
              "      <td>0</td>\n",
              "      <td>0</td>\n",
              "      <td>1</td>\n",
              "      <td>0</td>\n",
              "      <td>0</td>\n",
              "    </tr>\n",
              "    <tr>\n",
              "      <th>3</th>\n",
              "      <td>19.20</td>\n",
              "      <td>1</td>\n",
              "      <td>0.000000</td>\n",
              "      <td>182.0950</td>\n",
              "      <td>1</td>\n",
              "      <td>2</td>\n",
              "      <td>732.3800</td>\n",
              "      <td>22</td>\n",
              "      <td>0</td>\n",
              "      <td>0</td>\n",
              "      <td>...</td>\n",
              "      <td>0</td>\n",
              "      <td>0</td>\n",
              "      <td>0</td>\n",
              "      <td>0</td>\n",
              "      <td>0</td>\n",
              "      <td>0</td>\n",
              "      <td>1</td>\n",
              "      <td>0</td>\n",
              "      <td>0</td>\n",
              "      <td>0</td>\n",
              "    </tr>\n",
              "    <tr>\n",
              "      <th>4</th>\n",
              "      <td>8.93</td>\n",
              "      <td>0</td>\n",
              "      <td>0.000000</td>\n",
              "      <td>53.8614</td>\n",
              "      <td>0</td>\n",
              "      <td>2</td>\n",
              "      <td>994.7052</td>\n",
              "      <td>33</td>\n",
              "      <td>0</td>\n",
              "      <td>0</td>\n",
              "      <td>...</td>\n",
              "      <td>0</td>\n",
              "      <td>0</td>\n",
              "      <td>0</td>\n",
              "      <td>0</td>\n",
              "      <td>0</td>\n",
              "      <td>0</td>\n",
              "      <td>0</td>\n",
              "      <td>1</td>\n",
              "      <td>0</td>\n",
              "      <td>0</td>\n",
              "    </tr>\n",
              "  </tbody>\n",
              "</table>\n",
              "<p>5 rows × 28 columns</p>\n",
              "</div>"
            ],
            "text/plain": [
              "   Item_Weight  Item_Fat_Content  Item_Visibility  Item_MRP  Outlet_Size   \n",
              "0         9.30                 0         0.016047  249.8092            1  \\\n",
              "1         5.92                 1         0.019278   48.2692            1   \n",
              "2        17.50                 0         0.016760  141.6180            1   \n",
              "3        19.20                 1         0.000000  182.0950            1   \n",
              "4         8.93                 0         0.000000   53.8614            0   \n",
              "\n",
              "   Outlet_Location_Type  Item_Outlet_Sales  Outlet_Age   \n",
              "0                     0          3735.1380          21  \\\n",
              "1                     2           443.4228          11   \n",
              "2                     0          2097.2700          21   \n",
              "3                     2           732.3800          22   \n",
              "4                     2           994.7052          33   \n",
              "\n",
              "   Item_Type_Baking Goods  Item_Type_Breads  ...  Item_Type_Meat   \n",
              "0                       0                 0  ...               0  \\\n",
              "1                       0                 0  ...               0   \n",
              "2                       0                 0  ...               1   \n",
              "3                       0                 0  ...               0   \n",
              "4                       0                 0  ...               0   \n",
              "\n",
              "   Item_Type_Others  Item_Type_Seafood  Item_Type_Snack Foods   \n",
              "0                 0                  0                      0  \\\n",
              "1                 0                  0                      0   \n",
              "2                 0                  0                      0   \n",
              "3                 0                  0                      0   \n",
              "4                 0                  0                      0   \n",
              "\n",
              "   Item_Type_Soft Drinks  Item_Type_Starchy Foods  Outlet_Type_Grocery Store   \n",
              "0                      0                        0                          0  \\\n",
              "1                      1                        0                          0   \n",
              "2                      0                        0                          0   \n",
              "3                      0                        0                          1   \n",
              "4                      0                        0                          0   \n",
              "\n",
              "   Outlet_Type_Supermarket Type1  Outlet_Type_Supermarket Type2   \n",
              "0                              1                              0  \\\n",
              "1                              0                              1   \n",
              "2                              1                              0   \n",
              "3                              0                              0   \n",
              "4                              1                              0   \n",
              "\n",
              "   Outlet_Type_Supermarket Type3  \n",
              "0                              0  \n",
              "1                              0  \n",
              "2                              0  \n",
              "3                              0  \n",
              "4                              0  \n",
              "\n",
              "[5 rows x 28 columns]"
            ]
          },
          "execution_count": 20,
          "metadata": {},
          "output_type": "execute_result"
        }
      ],
      "source": [
        "train_fe.head()"
      ]
    },
    {
      "cell_type": "markdown",
      "id": "quality-frame",
      "metadata": {
        "id": "quality-frame",
        "papermill": {
          "duration": 0.040773,
          "end_time": "2021-05-30T20:24:15.871022",
          "exception": false,
          "start_time": "2021-05-30T20:24:15.830249",
          "status": "completed"
        },
        "tags": []
      },
      "source": [
        "Now that we have taken care of our categorical variables, we move on to the continous variables.\n",
        "We will nnormalize the data in such a way that the range of all variables is almost similar.\n",
        "We will use the StandardScaler function to do this."
      ]
    },
    {
      "cell_type": "code",
      "execution_count": 21,
      "id": "talented-yemen",
      "metadata": {
        "execution": {
          "iopub.execute_input": "2021-05-30T20:24:15.957484Z",
          "iopub.status.busy": "2021-05-30T20:24:15.956938Z",
          "iopub.status.idle": "2021-05-30T20:24:15.996082Z",
          "shell.execute_reply": "2021-05-30T20:24:15.995654Z",
          "shell.execute_reply.started": "2021-05-30T20:23:09.084955Z"
        },
        "id": "talented-yemen",
        "papermill": {
          "duration": 0.084227,
          "end_time": "2021-05-30T20:24:15.996197",
          "exception": false,
          "start_time": "2021-05-30T20:24:15.911970",
          "status": "completed"
        },
        "tags": []
      },
      "outputs": [],
      "source": [
        "from sklearn.preprocessing import StandardScaler\n",
        "#create an object of the StandardScaler\n",
        "scaler = StandardScaler()\n",
        "#fit with the Item_MRP\n",
        "#transform the data\n",
        "train_scaled = train[['Item_MRP']].copy()\n",
        "train_fe['Item_MRP_scaled'] = scaler.fit_transform(train_scaled[['Item_MRP']])\n",
        "\n",
        "\n",
        "\n"
      ]
    },
    {
      "cell_type": "code",
      "execution_count": null,
      "id": "591a4b52",
      "metadata": {},
      "outputs": [],
      "source": []
    },
    {
      "cell_type": "code",
      "execution_count": 22,
      "id": "4jNyIpYjHSqd",
      "metadata": {
        "colab": {
          "base_uri": "https://localhost:8080/",
          "height": 317
        },
        "id": "4jNyIpYjHSqd",
        "outputId": "37101ddd-8da3-440e-96ae-133b8660c4a1"
      },
      "outputs": [
        {
          "data": {
            "text/html": [
              "<div>\n",
              "<style scoped>\n",
              "    .dataframe tbody tr th:only-of-type {\n",
              "        vertical-align: middle;\n",
              "    }\n",
              "\n",
              "    .dataframe tbody tr th {\n",
              "        vertical-align: top;\n",
              "    }\n",
              "\n",
              "    .dataframe thead th {\n",
              "        text-align: right;\n",
              "    }\n",
              "</style>\n",
              "<table border=\"1\" class=\"dataframe\">\n",
              "  <thead>\n",
              "    <tr style=\"text-align: right;\">\n",
              "      <th></th>\n",
              "      <th>Item_Weight</th>\n",
              "      <th>Item_Fat_Content</th>\n",
              "      <th>Item_Visibility</th>\n",
              "      <th>Item_MRP</th>\n",
              "      <th>Outlet_Size</th>\n",
              "      <th>Outlet_Location_Type</th>\n",
              "      <th>Item_Outlet_Sales</th>\n",
              "      <th>Outlet_Age</th>\n",
              "      <th>Item_Type_Baking Goods</th>\n",
              "      <th>Item_Type_Breads</th>\n",
              "      <th>...</th>\n",
              "      <th>Item_Type_Others</th>\n",
              "      <th>Item_Type_Seafood</th>\n",
              "      <th>Item_Type_Snack Foods</th>\n",
              "      <th>Item_Type_Soft Drinks</th>\n",
              "      <th>Item_Type_Starchy Foods</th>\n",
              "      <th>Outlet_Type_Grocery Store</th>\n",
              "      <th>Outlet_Type_Supermarket Type1</th>\n",
              "      <th>Outlet_Type_Supermarket Type2</th>\n",
              "      <th>Outlet_Type_Supermarket Type3</th>\n",
              "      <th>Item_MRP_scaled</th>\n",
              "    </tr>\n",
              "  </thead>\n",
              "  <tbody>\n",
              "    <tr>\n",
              "      <th>0</th>\n",
              "      <td>9.30</td>\n",
              "      <td>0</td>\n",
              "      <td>0.016047</td>\n",
              "      <td>249.8092</td>\n",
              "      <td>1</td>\n",
              "      <td>0</td>\n",
              "      <td>3735.1380</td>\n",
              "      <td>21</td>\n",
              "      <td>0</td>\n",
              "      <td>0</td>\n",
              "      <td>...</td>\n",
              "      <td>0</td>\n",
              "      <td>0</td>\n",
              "      <td>0</td>\n",
              "      <td>0</td>\n",
              "      <td>0</td>\n",
              "      <td>0</td>\n",
              "      <td>1</td>\n",
              "      <td>0</td>\n",
              "      <td>0</td>\n",
              "      <td>1.747454</td>\n",
              "    </tr>\n",
              "    <tr>\n",
              "      <th>1</th>\n",
              "      <td>5.92</td>\n",
              "      <td>1</td>\n",
              "      <td>0.019278</td>\n",
              "      <td>48.2692</td>\n",
              "      <td>1</td>\n",
              "      <td>2</td>\n",
              "      <td>443.4228</td>\n",
              "      <td>11</td>\n",
              "      <td>0</td>\n",
              "      <td>0</td>\n",
              "      <td>...</td>\n",
              "      <td>0</td>\n",
              "      <td>0</td>\n",
              "      <td>0</td>\n",
              "      <td>1</td>\n",
              "      <td>0</td>\n",
              "      <td>0</td>\n",
              "      <td>0</td>\n",
              "      <td>1</td>\n",
              "      <td>0</td>\n",
              "      <td>-1.489023</td>\n",
              "    </tr>\n",
              "    <tr>\n",
              "      <th>2</th>\n",
              "      <td>17.50</td>\n",
              "      <td>0</td>\n",
              "      <td>0.016760</td>\n",
              "      <td>141.6180</td>\n",
              "      <td>1</td>\n",
              "      <td>0</td>\n",
              "      <td>2097.2700</td>\n",
              "      <td>21</td>\n",
              "      <td>0</td>\n",
              "      <td>0</td>\n",
              "      <td>...</td>\n",
              "      <td>0</td>\n",
              "      <td>0</td>\n",
              "      <td>0</td>\n",
              "      <td>0</td>\n",
              "      <td>0</td>\n",
              "      <td>0</td>\n",
              "      <td>1</td>\n",
              "      <td>0</td>\n",
              "      <td>0</td>\n",
              "      <td>0.010040</td>\n",
              "    </tr>\n",
              "    <tr>\n",
              "      <th>3</th>\n",
              "      <td>19.20</td>\n",
              "      <td>1</td>\n",
              "      <td>0.000000</td>\n",
              "      <td>182.0950</td>\n",
              "      <td>1</td>\n",
              "      <td>2</td>\n",
              "      <td>732.3800</td>\n",
              "      <td>22</td>\n",
              "      <td>0</td>\n",
              "      <td>0</td>\n",
              "      <td>...</td>\n",
              "      <td>0</td>\n",
              "      <td>0</td>\n",
              "      <td>0</td>\n",
              "      <td>0</td>\n",
              "      <td>0</td>\n",
              "      <td>1</td>\n",
              "      <td>0</td>\n",
              "      <td>0</td>\n",
              "      <td>0</td>\n",
              "      <td>0.660050</td>\n",
              "    </tr>\n",
              "    <tr>\n",
              "      <th>4</th>\n",
              "      <td>8.93</td>\n",
              "      <td>0</td>\n",
              "      <td>0.000000</td>\n",
              "      <td>53.8614</td>\n",
              "      <td>0</td>\n",
              "      <td>2</td>\n",
              "      <td>994.7052</td>\n",
              "      <td>33</td>\n",
              "      <td>0</td>\n",
              "      <td>0</td>\n",
              "      <td>...</td>\n",
              "      <td>0</td>\n",
              "      <td>0</td>\n",
              "      <td>0</td>\n",
              "      <td>0</td>\n",
              "      <td>0</td>\n",
              "      <td>0</td>\n",
              "      <td>1</td>\n",
              "      <td>0</td>\n",
              "      <td>0</td>\n",
              "      <td>-1.399220</td>\n",
              "    </tr>\n",
              "  </tbody>\n",
              "</table>\n",
              "<p>5 rows × 29 columns</p>\n",
              "</div>"
            ],
            "text/plain": [
              "   Item_Weight  Item_Fat_Content  Item_Visibility  Item_MRP  Outlet_Size   \n",
              "0         9.30                 0         0.016047  249.8092            1  \\\n",
              "1         5.92                 1         0.019278   48.2692            1   \n",
              "2        17.50                 0         0.016760  141.6180            1   \n",
              "3        19.20                 1         0.000000  182.0950            1   \n",
              "4         8.93                 0         0.000000   53.8614            0   \n",
              "\n",
              "   Outlet_Location_Type  Item_Outlet_Sales  Outlet_Age   \n",
              "0                     0          3735.1380          21  \\\n",
              "1                     2           443.4228          11   \n",
              "2                     0          2097.2700          21   \n",
              "3                     2           732.3800          22   \n",
              "4                     2           994.7052          33   \n",
              "\n",
              "   Item_Type_Baking Goods  Item_Type_Breads  ...  Item_Type_Others   \n",
              "0                       0                 0  ...                 0  \\\n",
              "1                       0                 0  ...                 0   \n",
              "2                       0                 0  ...                 0   \n",
              "3                       0                 0  ...                 0   \n",
              "4                       0                 0  ...                 0   \n",
              "\n",
              "   Item_Type_Seafood  Item_Type_Snack Foods  Item_Type_Soft Drinks   \n",
              "0                  0                      0                      0  \\\n",
              "1                  0                      0                      1   \n",
              "2                  0                      0                      0   \n",
              "3                  0                      0                      0   \n",
              "4                  0                      0                      0   \n",
              "\n",
              "   Item_Type_Starchy Foods  Outlet_Type_Grocery Store   \n",
              "0                        0                          0  \\\n",
              "1                        0                          0   \n",
              "2                        0                          0   \n",
              "3                        0                          1   \n",
              "4                        0                          0   \n",
              "\n",
              "   Outlet_Type_Supermarket Type1  Outlet_Type_Supermarket Type2   \n",
              "0                              1                              0  \\\n",
              "1                              0                              1   \n",
              "2                              1                              0   \n",
              "3                              0                              0   \n",
              "4                              1                              0   \n",
              "\n",
              "   Outlet_Type_Supermarket Type3  Item_MRP_scaled  \n",
              "0                              0         1.747454  \n",
              "1                              0        -1.489023  \n",
              "2                              0         0.010040  \n",
              "3                              0         0.660050  \n",
              "4                              0        -1.399220  \n",
              "\n",
              "[5 rows x 29 columns]"
            ]
          },
          "execution_count": 22,
          "metadata": {},
          "output_type": "execute_result"
        }
      ],
      "source": [
        "train_fe.head()"
      ]
    },
    {
      "cell_type": "markdown",
      "id": "higher-distance",
      "metadata": {
        "id": "higher-distance",
        "papermill": {
          "duration": 0.032351,
          "end_time": "2021-05-30T20:24:16.055571",
          "exception": false,
          "start_time": "2021-05-30T20:24:16.023220",
          "status": "completed"
        },
        "tags": []
      },
      "source": [
        "# Building the Model\n",
        "We will use the Linear Regression and the Random Forest Regressor to predict the sales. We will create a validation set using the train_test_split() function.\n",
        "\n",
        "test_size = 0.25 such that the validation set holds 25% of the data points while the train set has 75%."
      ]
    },
    {
      "cell_type": "code",
      "execution_count": 23,
      "id": "enabling-prescription",
      "metadata": {
        "execution": {
          "iopub.execute_input": "2021-05-30T20:24:16.126168Z",
          "iopub.status.busy": "2021-05-30T20:24:16.125620Z",
          "iopub.status.idle": "2021-05-30T20:24:16.442714Z",
          "shell.execute_reply": "2021-05-30T20:24:16.442219Z",
          "shell.execute_reply.started": "2021-05-30T20:23:09.122548Z"
        },
        "id": "enabling-prescription",
        "papermill": {
          "duration": 0.350674,
          "end_time": "2021-05-30T20:24:16.442823",
          "exception": false,
          "start_time": "2021-05-30T20:24:16.092149",
          "status": "completed"
        },
        "tags": []
      },
      "outputs": [],
      "source": [
        "from sklearn.linear_model import LinearRegression\n",
        "from sklearn.ensemble import RandomForestRegressor\n",
        "from sklearn.model_selection import train_test_split\n",
        "from sklearn.metrics import mean_squared_error\n",
        "\n",
        "#seperate the independent and target variable\n",
        "y=train_fe['Item_Outlet_Sales']\n",
        "X=train_fe.drop('Item_Outlet_Sales',axis = 1)\n",
        "\n",
        "\n",
        "#split the data\n",
        "X_train, X_test, y_train, y_test = train_test_split(X,y, test_size=0.25, random_state=0)\n",
        "\n"
      ]
    },
    {
      "cell_type": "code",
      "execution_count": 24,
      "id": "k9ApIya8SgIs",
      "metadata": {
        "colab": {
          "base_uri": "https://localhost:8080/"
        },
        "id": "k9ApIya8SgIs",
        "outputId": "d820b1ac-38cf-4966-f95c-92b074c56400"
      },
      "outputs": [
        {
          "name": "stdout",
          "output_type": "stream",
          "text": [
            "(6392, 28)\n",
            "(2131, 28)\n",
            "(6392,)\n",
            "(2131,)\n"
          ]
        }
      ],
      "source": [
        "#shape of train test splits\n",
        "print(X_train.shape)\n",
        "print(X_test.shape)\n",
        "print(y_train.shape)\n",
        "print(y_test.shape)"
      ]
    },
    {
      "cell_type": "code",
      "execution_count": 25,
      "id": "hvR62vpE3Mva",
      "metadata": {
        "id": "hvR62vpE3Mva"
      },
      "outputs": [],
      "source": [
        "#Metrics\n",
        "from sklearn.metrics import mean_absolute_error as MAE\n",
        "from sklearn.metrics import mean_squared_error as MSE\n",
        "from sklearn.metrics import r2_score as R2\n",
        "from sklearn.model_selection  import cross_val_score as CVS"
      ]
    },
    {
      "cell_type": "code",
      "execution_count": 26,
      "id": "lOaBhPzg3CIg",
      "metadata": {
        "id": "lOaBhPzg3CIg"
      },
      "outputs": [],
      "source": [
        "def cross_val(model_name,model,X,y,cv):\n",
        "    \n",
        "    scores = CVS(model, X, y, cv=cv)\n",
        "    print(f'{model_name} Scores:')\n",
        "    for i in scores:\n",
        "        print(round(i,2))\n",
        "    print(f'Average {model_name} score: {round(scores.mean(),4)}')"
      ]
    },
    {
      "cell_type": "markdown",
      "id": "recognized-blind",
      "metadata": {
        "id": "recognized-blind",
        "papermill": {
          "duration": 0.027268,
          "end_time": "2021-05-30T20:24:16.498518",
          "exception": false,
          "start_time": "2021-05-30T20:24:16.471250",
          "status": "completed"
        },
        "tags": []
      },
      "source": [
        "Now that we have split our data, we will train a linear regression model on this data and check its performance on the validation set. We will use RMSE as an evaluation metric."
      ]
    },
    {
      "cell_type": "code",
      "execution_count": 27,
      "id": "better-pottery",
      "metadata": {
        "colab": {
          "base_uri": "https://localhost:8080/"
        },
        "execution": {
          "iopub.execute_input": "2021-05-30T20:24:16.561517Z",
          "iopub.status.busy": "2021-05-30T20:24:16.560788Z",
          "iopub.status.idle": "2021-05-30T20:24:16.657256Z",
          "shell.execute_reply": "2021-05-30T20:24:16.657823Z",
          "shell.execute_reply.started": "2021-05-30T20:23:09.401676Z"
        },
        "id": "better-pottery",
        "outputId": "70756c92-b506-42e8-bc26-ffbb4588cce1",
        "papermill": {
          "duration": 0.131627,
          "end_time": "2021-05-30T20:24:16.657987",
          "exception": false,
          "start_time": "2021-05-30T20:24:16.526360",
          "status": "completed"
        },
        "tags": []
      },
      "outputs": [
        {
          "name": "stdout",
          "output_type": "stream",
          "text": [
            " Mean Absolute Error: 860.97\n",
            "\n",
            " Mean Squared Error: 1320412.0\n",
            "\n",
            " R^2 Score: 0.5593\n",
            "\n",
            "LinearRegression() Scores:\n",
            "0.57\n",
            "0.55\n",
            "0.55\n",
            "0.56\n",
            "0.56\n",
            "Average LinearRegression() score: 0.558\n"
          ]
        }
      ],
      "source": [
        "#LinearRegression\n",
        "lin_reg = LinearRegression()\n",
        "#fit the model\n",
        "lin_reg.fit(X_train,y_train)\n",
        "\n",
        "#predict the target on train and validation data\n",
        "y_predict = lin_reg.predict(X_test)\n",
        "# RMSE on train and validation data\n",
        "LR_MAE = round(MAE(y_test, y_predict),2)\n",
        "LR_MSE = round(MSE(y_test, y_predict),2)\n",
        "LR_R_2 = round(R2(y_test, y_predict),4)\n",
        "LR_CS  = round(CVS(lin_reg, X, y, cv=5).mean(),4)\n",
        "\n",
        "print(f\" Mean Absolute Error: {LR_MAE}\\n\")\n",
        "print(f\" Mean Squared Error: {LR_MSE}\\n\")\n",
        "print(f\" R^2 Score: {LR_R_2}\\n\")\n",
        "cross_val(lin_reg,LinearRegression(),X,y,5)"
      ]
    },
    {
      "cell_type": "code",
      "execution_count": 44,
      "id": "16f07504",
      "metadata": {},
      "outputs": [
        {
          "data": {
            "text/plain": [
              "['model1.pkl']"
            ]
          },
          "execution_count": 44,
          "metadata": {},
          "output_type": "execute_result"
        }
      ],
      "source": [
        "import joblib\n",
        "joblib.dump(lin_reg, 'model1.pkl')"
      ]
    },
    {
      "cell_type": "code",
      "execution_count": 29,
      "id": "vkXxeZCGPgLz",
      "metadata": {
        "id": "vkXxeZCGPgLz"
      },
      "outputs": [],
      "source": [
        "Linear_Regression=pd.DataFrame({'y_test':y_test,'prediction':y_predict})\n",
        "Linear_Regression.to_csv(\"Linear Regression.csv\")     "
      ]
    },
    {
      "cell_type": "markdown",
      "id": "proper-placement",
      "metadata": {
        "id": "proper-placement",
        "papermill": {
          "duration": 0.036398,
          "end_time": "2021-05-30T20:24:16.755450",
          "exception": false,
          "start_time": "2021-05-30T20:24:16.719052",
          "status": "completed"
        },
        "tags": []
      },
      "source": [
        "We will train a random forest regressor and see if we can get an improvement on the train and validation errors."
      ]
    },
    {
      "cell_type": "code",
      "execution_count": 31,
      "id": "loved-fourth",
      "metadata": {
        "colab": {
          "base_uri": "https://localhost:8080/"
        },
        "execution": {
          "iopub.execute_input": "2021-05-30T20:24:16.815559Z",
          "iopub.status.busy": "2021-05-30T20:24:16.814881Z",
          "iopub.status.idle": "2021-05-30T20:24:18.923009Z",
          "shell.execute_reply": "2021-05-30T20:24:18.923497Z",
          "shell.execute_reply.started": "2021-05-30T20:23:09.469576Z"
        },
        "id": "loved-fourth",
        "outputId": "14eba755-8367-4e62-8694-03ad6b70c9d0",
        "papermill": {
          "duration": 2.141567,
          "end_time": "2021-05-30T20:24:18.923669",
          "exception": false,
          "start_time": "2021-05-30T20:24:16.782102",
          "status": "completed"
        },
        "tags": []
      },
      "outputs": [
        {
          "name": "stdout",
          "output_type": "stream",
          "text": [
            " Mean Absolute Error: 784.05\n",
            "\n",
            " Mean Squared Error: 1232766.49\n",
            "\n",
            " R^2 Score: 0.5885\n",
            "\n",
            "RandomForestRegressor(max_depth=5, min_samples_leaf=100, n_estimators=200,\n",
            "                      n_jobs=4, random_state=101) Scores:\n",
            "0.57\n",
            "0.53\n",
            "0.53\n",
            "0.56\n",
            "0.57\n",
            "Average RandomForestRegressor(max_depth=5, min_samples_leaf=100, n_estimators=200,\n",
            "                      n_jobs=4, random_state=101) score: 0.5498\n"
          ]
        }
      ],
      "source": [
        "#RandomForestRegressor\n",
        "\n",
        "#model\n",
        "rf_reg = RandomForestRegressor(n_estimators=200,max_depth=5, min_samples_leaf=100,n_jobs=4,random_state=101)\n",
        "#fit\n",
        "rf_reg.fit(X_train, y_train)\n",
        "#predict\n",
        "y_predict = rf_reg.predict(X_test)\n",
        "\n",
        "#score variables\n",
        "RFR_MAE = round(MAE(y_test, y_predict),2)\n",
        "RFR_MSE = round(MSE(y_test, y_predict),2)\n",
        "RFR_R_2 = round(R2(y_test, y_predict),4)\n",
        "RFR_CS  = round(CVS(rf_reg, X, y, cv=5).mean(),4)\n",
        "\n",
        "\n",
        "\n",
        "print(f\" Mean Absolute Error: {RFR_MAE}\\n\")\n",
        "print(f\" Mean Squared Error: {RFR_MSE}\\n\")\n",
        "print(f\" R^2 Score: {RFR_R_2}\\n\")\n",
        "cross_val(rf_reg,RandomForestRegressor(),X,y,5)"
      ]
    },
    {
      "cell_type": "code",
      "execution_count": 32,
      "id": "UoTrPilZPwCK",
      "metadata": {
        "id": "UoTrPilZPwCK"
      },
      "outputs": [],
      "source": [
        "Random_Forest_Regressor=pd.DataFrame({'y_test':y_test,'prediction':y_predict})\n",
        "Random_Forest_Regressor.to_csv(\"Random Forest Regressor.csv\")     "
      ]
    },
    {
      "cell_type": "markdown",
      "id": "perfect-mention",
      "metadata": {
        "id": "perfect-mention",
        "papermill": {
          "duration": 0.02929,
          "end_time": "2021-05-30T20:24:18.981431",
          "exception": false,
          "start_time": "2021-05-30T20:24:18.952141",
          "status": "completed"
        },
        "tags": []
      },
      "source": [
        "We can see a significant improvement on the RMSE values. The random forest algorithm gives us 'feature importance for all the variables in the data.\n",
        "\n",
        "We have 45 features and not all of these features may be useful in forecasting. We will select the top 7 features which had a major contribution in forecasting sales values.\n",
        "\n",
        "If the model performance is similar in both cases (by using 45 features and by using 7 features), then we should only use the top 7 features, in order to keep the model simple and efficient.\n",
        "\n",
        "The goal is to have a less complex model without compromising on the overall model performance."
      ]
    },
    {
      "cell_type": "code",
      "execution_count": 33,
      "id": "institutional-approach",
      "metadata": {
        "colab": {
          "base_uri": "https://localhost:8080/",
          "height": 408
        },
        "execution": {
          "iopub.execute_input": "2021-05-30T20:24:19.046436Z",
          "iopub.status.busy": "2021-05-30T20:24:19.045722Z",
          "iopub.status.idle": "2021-05-30T20:24:19.251972Z",
          "shell.execute_reply": "2021-05-30T20:24:19.251455Z",
          "shell.execute_reply.started": "2021-05-30T20:23:11.747813Z"
        },
        "id": "institutional-approach",
        "outputId": "babf225e-d312-42cd-f618-10e55aeb0a16",
        "papermill": {
          "duration": 0.242182,
          "end_time": "2021-05-30T20:24:19.252081",
          "exception": false,
          "start_time": "2021-05-30T20:24:19.009899",
          "status": "completed"
        },
        "tags": []
      },
      "outputs": [
        {
          "data": {
            "image/png": "[encoded data removed]",
            "text/plain": [
              "<Figure size 1000x600 with 1 Axes>"
            ]
          },
          "metadata": {},
          "output_type": "display_data"
        }
      ],
      "source": [
        "import seaborn as sns\n",
        "#plot the 7 most important features\n",
        "importances = rf_reg.feature_importances_\n",
        "indices = np.argsort(importances)[::-1]\n",
        "\n",
        "# Print the top 7 most important features\n",
        "top_indices = indices[:7]\n",
        "top_features = X.columns[top_indices]\n",
        "top_importances = importances[top_indices]\n",
        "\n",
        "# Create a bar plot of the top 7 features\n",
        "plt.figure(figsize=(10,6))\n",
        "plt.barh(top_features, top_importances, color='#FFA07A')\n",
        "plt.xlabel('Importance Scores', fontsize=12)\n",
        "plt.ylabel('Features', fontsize=12)\n",
        "plt.title('7 Most Important Features in Big Mart Sales Prediction', fontsize=14, fontweight='bold')\n",
        "plt.xticks(fontsize=10)\n",
        "plt.yticks(fontsize=10)\n",
        "plt.gca().spines['right'].set_visible(False)\n",
        "plt.gca().spines['top'].set_visible(False)\n",
        "plt.gca().xaxis.grid(True, linestyle='--')\n",
        "plt.gca().set_axisbelow(True)\n",
        "plt.show()"
      ]
    },
    {
      "cell_type": "code",
      "execution_count": 34,
      "id": "dJ0kWLtugr_9",
      "metadata": {
        "colab": {
          "base_uri": "https://localhost:8080/"
        },
        "id": "dJ0kWLtugr_9",
        "outputId": "ed285600-20e9-4696-9401-71c605a555c7"
      },
      "outputs": [
        {
          "name": "stdout",
          "output_type": "stream",
          "text": [
            " Mean Absolute Error: 784.05\n",
            "\n",
            " Mean Squared Error: 1232766.49\n",
            "\n",
            " R^2 Score: 0.5885\n",
            "\n",
            "RandomForestRegressor(random_state=0) Scores:\n",
            "0.57\n",
            "0.53\n",
            "0.52\n",
            "0.56\n",
            "0.57\n",
            "Average RandomForestRegressor(random_state=0) score: 0.5492\n"
          ]
        }
      ],
      "source": [
        "#training data with top 7 features\n",
        "X_train_important = X_train.iloc[:, indices[:7]]\n",
        "rf_reg.fit(X_train_important,y_train)\n",
        "#validation data with top 7 important features\n",
        "y_pred = rf_reg.predict(X_train_important)\n",
        "\n",
        "# Evaluate the performance of your model on the selected features\n",
        "RFR_MAE = round(MAE(y_test, y_predict),2)\n",
        "RFR_MSE = round(MSE(y_test, y_predict),2)\n",
        "RFR_R_2 = round(R2(y_test, y_predict),4)\n",
        "RFR_CS  = round(CVS(rf_reg, X, y, cv=5).mean(),4)\n",
        "#create an object of the RandomForestRegressor Model\n",
        "rf_reg1 = RandomForestRegressor(n_estimators=100, random_state=0)\n",
        "print(f\" Mean Absolute Error: {RFR_MAE}\\n\")\n",
        "print(f\" Mean Squared Error: {RFR_MSE}\\n\")\n",
        "print(f\" R^2 Score: {RFR_R_2}\\n\")\n",
        "cross_val(rf_reg1,RandomForestRegressor(),X,y,5)"
      ]
    },
    {
      "cell_type": "markdown",
      "id": "outdoor-election",
      "metadata": {
        "id": "outdoor-election",
        "papermill": {
          "duration": 0.028358,
          "end_time": "2021-05-30T20:24:20.738245",
          "exception": false,
          "start_time": "2021-05-30T20:24:20.709887",
          "status": "completed"
        },
        "tags": []
      },
      "source": [
        "Using only 7 features has given us almost the same perfomance as the previous model where we were using 45 features. Now we will identify the final set of features that we need and the preprocessing steps for each of them."
      ]
    },
    {
      "cell_type": "markdown",
      "id": "atlantic-tampa",
      "metadata": {
        "id": "atlantic-tampa",
        "papermill": {
          "duration": 0.029121,
          "end_time": "2021-05-30T20:24:20.796307",
          "exception": false,
          "start_time": "2021-05-30T20:24:20.767186",
          "status": "completed"
        },
        "tags": []
      },
      "source": [
        "# Identifying features to build the Machine Learning pipeline\n",
        "We must list down the final set of features and necessary preprocessing steps for each of them, to be used in the ML pipeline. Since the RandomForestRegressor model with 7 features gave us almost the same performance as the previous model with 45 features, we will only use these features for our ML pipeline."
      ]
    },
    {
      "cell_type": "markdown",
      "id": "exposed-constant",
      "metadata": {
        "id": "exposed-constant",
        "papermill": {
          "duration": 0.028258,
          "end_time": "2021-05-30T20:24:20.853240",
          "exception": false,
          "start_time": "2021-05-30T20:24:20.824982",
          "status": "completed"
        },
        "tags": []
      },
      "source": [
        "# Selected features and preprocessing steps\n",
        "* **Item_MRP:** It holds the price of the products. During the preprocessing step we used a standard scaler to scale these values.\n",
        "* **Outlet_Type_Grocery Store:** A binary column which indcates if the outlet type is a grocery store or not. To use this information in the model building process, we will add a binary feature in the existing data that contains 1 (if outlet type is a grocery store) and 0 (if the outlet type is something else).\n",
        "* **Item_Visibility:** Denotes visibility of products in the store. Since this variable had a small value range and no missing values, we did not apply any preprocessing steps on this variable.\n",
        "* **Outlet_Type_Supermarket Type3:** Another binary column indicating if the outlet type is a 'supermarket_type_3' or not. To capture this information we will create a binary feature that stores 1 (if outlet type is supermarket_type_3) and 0 (if not).\n",
        "* **Outlet_Identifier_OUT027:8** This feature specifies whether the outlet identifier is 'OUT027' or not. Similar to the  previous example, we will create a seperate column that carries 1 (if outlet identifier is OUT027) or 0 (if otherwise).\n",
        "* **Outlet_Establishment_Year:** This describes the year of establishment of the stores. Since we did not perform any transformation on values in this column, we will not preprocess it in the pipeline.\n",
        "* **Item_Weight:** During preprocessing we observed that this column had missing values. These missing values were imputed using the average of the column. This has to be taken into account while building the pipeline.\n",
        "\n",
        "We will drop the other columns since we will not use them to train the model.\n"
      ]
    },
    {
      "cell_type": "markdown",
      "id": "stopped-edgar",
      "metadata": {
        "id": "stopped-edgar",
        "papermill": {
          "duration": 0.028386,
          "end_time": "2021-05-30T20:24:20.910471",
          "exception": false,
          "start_time": "2021-05-30T20:24:20.882085",
          "status": "completed"
        },
        "tags": []
      },
      "source": [
        "# Pipeline Design\n",
        "We have built a prototype to understand the preprocessing requirement for our data. It is now time to form a pipeline design based on our learning from the prototype. We will define the pipeline in 3 stages:\n",
        "\n",
        "1. Create the required binary features\n",
        "2. Perform required data preprocessing and transformations:\n",
        "*  Drop the columns that are not required\n",
        "*  Missing value imputation (Item_Weight) by average\n",
        "*  Scale the Item_MRP\n",
        "3. Random Forest Regressor"
      ]
    },
    {
      "cell_type": "markdown",
      "id": "joined-advisory",
      "metadata": {
        "id": "joined-advisory",
        "papermill": {
          "duration": 0.028095,
          "end_time": "2021-05-30T20:24:20.967245",
          "exception": false,
          "start_time": "2021-05-30T20:24:20.939150",
          "status": "completed"
        },
        "tags": []
      },
      "source": [
        "# 1. Create the required binary features\n",
        "We will create a custom transformer that will add 3 new binary columns to the existing data.\n",
        "\n",
        "* Outlet_Type: Grocery Store\n",
        "* Outlet_Type: Supermarket Type3\n",
        "* Outlet_Identifier_OUT027"
      ]
    },
    {
      "cell_type": "markdown",
      "id": "friendly-belly",
      "metadata": {
        "id": "friendly-belly",
        "papermill": {
          "duration": 0.028147,
          "end_time": "2021-05-30T20:24:21.025249",
          "exception": false,
          "start_time": "2021-05-30T20:24:20.997102",
          "status": "completed"
        },
        "tags": []
      },
      "source": [
        "# 2. Data Preprocessing and transformations\n",
        "We will use a column transformer to do the required transformations. It will contain 3 steps:\n",
        "\n",
        "* Drop the columns that are not required for model training\n",
        "* Impute missing values in the column Item_Weight using the average\n",
        "* Scale the column Item_MRP using StandardScaler()"
      ]
    },
    {
      "cell_type": "markdown",
      "id": "governmental-parcel",
      "metadata": {
        "id": "governmental-parcel",
        "papermill": {
          "duration": 0.029144,
          "end_time": "2021-05-30T20:24:21.084295",
          "exception": false,
          "start_time": "2021-05-30T20:24:21.055151",
          "status": "completed"
        },
        "tags": []
      },
      "source": [
        "# 3. Use the model to predict the target on the cleaned data\n",
        "This will be the final step in the pipeline. In the last two steps we preprocessed the data and made it ready for the model building process. We will use this data and build a machine learning model to predict the Item Outlet Sales."
      ]
    },
    {
      "cell_type": "markdown",
      "id": "timely-beatles",
      "metadata": {
        "id": "timely-beatles",
        "papermill": {
          "duration": 0.029129,
          "end_time": "2021-05-30T20:24:21.143422",
          "exception": false,
          "start_time": "2021-05-30T20:24:21.114293",
          "status": "completed"
        },
        "tags": []
      },
      "source": [
        "# Building the pipeline\n",
        "We will read the data set and seperate the independent and target variable from the training dataset."
      ]
    },
    {
      "cell_type": "code",
      "execution_count": 35,
      "id": "efficient-poland",
      "metadata": {
        "execution": {
          "iopub.execute_input": "2021-05-30T20:24:21.205970Z",
          "iopub.status.busy": "2021-05-30T20:24:21.205367Z",
          "iopub.status.idle": "2021-05-30T20:24:21.223885Z",
          "shell.execute_reply": "2021-05-30T20:24:21.223347Z",
          "shell.execute_reply.started": "2021-05-30T20:23:13.374036Z"
        },
        "id": "efficient-poland",
        "papermill": {
          "duration": 0.051371,
          "end_time": "2021-05-30T20:24:21.223994",
          "exception": false,
          "start_time": "2021-05-30T20:24:21.172623",
          "status": "completed"
        },
        "tags": []
      },
      "outputs": [],
      "source": [
        "#importing required libraries\n",
        "import pandas as pd\n",
        "from sklearn.compose import ColumnTransformer\n",
        "from sklearn.impute import SimpleImputer\n",
        "from sklearn.preprocessing import StandardScaler\n",
        "from sklearn.ensemble import RandomForestRegressor\n",
        "from sklearn.pipeline import Pipeline"
      ]
    },
    {
      "cell_type": "code",
      "execution_count": 37,
      "id": "raised-jewelry",
      "metadata": {
        "execution": {
          "iopub.execute_input": "2021-05-30T20:24:21.285628Z",
          "iopub.status.busy": "2021-05-30T20:24:21.285106Z",
          "iopub.status.idle": "2021-05-30T20:24:21.317325Z",
          "shell.execute_reply": "2021-05-30T20:24:21.316754Z",
          "shell.execute_reply.started": "2021-05-30T20:23:13.394419Z"
        },
        "id": "raised-jewelry",
        "papermill": {
          "duration": 0.064821,
          "end_time": "2021-05-30T20:24:21.317484",
          "exception": false,
          "start_time": "2021-05-30T20:24:21.252663",
          "status": "completed"
        },
        "tags": []
      },
      "outputs": [],
      "source": [
        "#read training dataset\n",
        "train2 = pd.read_csv(\"Train.csv\")\n",
        "clean_data = train"
      ]
    },
    {
      "cell_type": "code",
      "execution_count": 38,
      "id": "zI7Su8EcqzEv",
      "metadata": {
        "id": "zI7Su8EcqzEv"
      },
      "outputs": [
        {
          "data": {
            "text/plain": [
              "Item_Identifier               object\n",
              "Item_Weight                  float64\n",
              "Item_Fat_Content               int32\n",
              "Item_Visibility              float64\n",
              "Item_Type                     object\n",
              "Item_MRP                     float64\n",
              "Outlet_Identifier             object\n",
              "Outlet_Establishment_Year      int64\n",
              "Outlet_Size                    int32\n",
              "Outlet_Location_Type           int32\n",
              "Outlet_Type                   object\n",
              "Item_Outlet_Sales            float64\n",
              "Outlet_Age                     int64\n",
              "dtype: object"
            ]
          },
          "execution_count": 38,
          "metadata": {},
          "output_type": "execute_result"
        }
      ],
      "source": [
        "train.dtypes"
      ]
    },
    {
      "cell_type": "code",
      "execution_count": 39,
      "id": "corresponding-karma",
      "metadata": {
        "execution": {
          "iopub.execute_input": "2021-05-30T20:24:21.410530Z",
          "iopub.status.busy": "2021-05-30T20:24:21.410010Z",
          "iopub.status.idle": "2021-05-30T20:24:21.416093Z",
          "shell.execute_reply": "2021-05-30T20:24:21.415463Z",
          "shell.execute_reply.started": "2021-05-30T20:23:13.421299Z"
        },
        "id": "corresponding-karma",
        "papermill": {
          "duration": 0.054907,
          "end_time": "2021-05-30T20:24:21.416228",
          "exception": false,
          "start_time": "2021-05-30T20:24:21.361321",
          "status": "completed"
        },
        "tags": []
      },
      "outputs": [],
      "source": [
        "#seperate the independent and target variables\n",
        "X = clean_data.drop(columns = ['Item_Outlet_Sales'])\n",
        "y = clean_data['Item_Outlet_Sales']"
      ]
    },
    {
      "cell_type": "markdown",
      "id": "higher-apple",
      "metadata": {
        "id": "higher-apple",
        "papermill": {
          "duration": 0.043527,
          "end_time": "2021-05-30T20:24:21.503616",
          "exception": false,
          "start_time": "2021-05-30T20:24:21.460089",
          "status": "completed"
        },
        "tags": []
      },
      "source": [
        "We need to create 3 new binary columns using a custom transformer. Here are the steps we need to follow to create a custom transformer.\n",
        "\n",
        "* Define a class OutletTypeEncoder\n",
        "* Add the parameter BaseEstimator while defining the class\n",
        "* The class must contain fit and transform methods\n",
        "* In the transform method, we will define all the 3 columns that we want after the first stage in our ML pipeline."
      ]
    },
    {
      "cell_type": "code",
      "execution_count": 41,
      "id": "broke-premiere",
      "metadata": {
        "execution": {
          "iopub.execute_input": "2021-05-30T20:24:21.598034Z",
          "iopub.status.busy": "2021-05-30T20:24:21.597231Z",
          "iopub.status.idle": "2021-05-30T20:24:21.601345Z",
          "shell.execute_reply": "2021-05-30T20:24:21.600726Z",
          "shell.execute_reply.started": "2021-05-30T20:23:13.428886Z"
        },
        "id": "broke-premiere",
        "papermill": {
          "duration": 0.053807,
          "end_time": "2021-05-30T20:24:21.601502",
          "exception": false,
          "start_time": "2021-05-30T20:24:21.547695",
          "status": "completed"
        },
        "tags": []
      },
      "outputs": [],
      "source": [
        "# import the BaseEstimator\n",
        "from sklearn.base import BaseEstimator\n",
        "\n",
        "# define the class OutletTypeEncoder\n",
        "# This will be our custom transformer that will create 3 new binary columns\n",
        "# custom transformer must have methods fit and transform\n",
        "    \n",
        "class OutletTypeEncoder(BaseEstimator):\n",
        "    \n",
        "    def __init__(self, base_estimator=None):\n",
        "        self.base_estimator = base_estimator\n",
        "        \n",
        "    def fit(self, X, y=None):\n",
        "        return self\n",
        "    \n",
        "    def transform(self, X, y=None):\n",
        "        X = X.copy()\n",
        "        X['Outlet_Type_Grocery Store'] = (train2['Outlet_Type'] == 'Grocery Store').astype(int)\n",
        "        X['Outlet_Type_SupermarketType3'] = (train2['Outlet_Type'] == 'Supermarket Type3').astype(int)\n",
        "        X['Outlet_Identifier_OUT027'] = (train2['Outlet_Identifier'] == 'OUT027').astype(int)\n",
        "        return X\n"
      ]
    },
    {
      "cell_type": "markdown",
      "id": "mobile-polymer",
      "metadata": {
        "id": "mobile-polymer",
        "papermill": {
          "duration": 0.04379,
          "end_time": "2021-05-30T20:24:21.690110",
          "exception": false,
          "start_time": "2021-05-30T20:24:21.646320",
          "status": "completed"
        },
        "tags": []
      },
      "source": [
        "Next we will define the pre-processing steps required before the model building process.\n",
        "\n",
        "* Drop the columns – Item_Identifier, Outlet_Identifier, Item_Fat_Content, Item_Type, Outlet_Identifier, Outlet_Size, Outlet_Location_Type and Outlet_Establishment_Year\n",
        "* Impute missing values in column Item_Weight with mean\n",
        "* Scale the column Item_MRP using StandardScaler().\n",
        "This will be the second step in our machine learning pipeline. After this step, the data will be ready to be used by the model to make predictions."
      ]
    },
    {
      "cell_type": "code",
      "execution_count": 42,
      "id": "strong-hydrogen",
      "metadata": {
        "execution": {
          "iopub.execute_input": "2021-05-30T20:24:21.783613Z",
          "iopub.status.busy": "2021-05-30T20:24:21.782928Z",
          "iopub.status.idle": "2021-05-30T20:24:21.787040Z",
          "shell.execute_reply": "2021-05-30T20:24:21.786498Z",
          "shell.execute_reply.started": "2021-05-30T20:23:13.441294Z"
        },
        "id": "strong-hydrogen",
        "papermill": {
          "duration": 0.05303,
          "end_time": "2021-05-30T20:24:21.787165",
          "exception": false,
          "start_time": "2021-05-30T20:24:21.734135",
          "status": "completed"
        },
        "tags": []
      },
      "outputs": [],
      "source": [
        "# Drop the columns - \n",
        "X = X.drop(columns=['Item_Identifier', 'Outlet_Identifier','Item_Type', 'Outlet_Identifier','Outlet_Establishment_Year'])\n",
        "# Impute the missing values in column Item_Weight by mean\n",
        "X['Item_Weight'] = X['Item_Weight'].fillna(X['Item_Weight'].mean()) \n",
        "# Scale the data in the column Item_MRP\n",
        "scaled_train = scaler.fit_transform(X['Item_MRP'].values.reshape(-1, 1))\n"
      ]
    },
    {
      "cell_type": "markdown",
      "id": "supreme-siemens",
      "metadata": {
        "id": "supreme-siemens",
        "papermill": {
          "duration": 0.043001,
          "end_time": "2021-05-30T20:24:21.873716",
          "exception": false,
          "start_time": "2021-05-30T20:24:21.830715",
          "status": "completed"
        },
        "tags": []
      },
      "source": [
        "# Predict the target\n",
        "This will be the final block of the machine learning pipeline. We will specify 3 steps – create binary columns, preprocess the data, train a model.\n",
        "\n",
        "When we use the fit() function with a pipeline object, all three steps are executed. Post the model training process, we use the predict() function that uses the trained model to generate the predictions."
      ]
    },
    {
      "cell_type": "code",
      "execution_count": 43,
      "id": "combined-department",
      "metadata": {
        "execution": {
          "iopub.execute_input": "2021-05-30T20:24:21.966621Z",
          "iopub.status.busy": "2021-05-30T20:24:21.965170Z",
          "iopub.status.idle": "2021-05-30T20:24:24.027762Z",
          "shell.execute_reply": "2021-05-30T20:24:24.027241Z",
          "shell.execute_reply.started": "2021-05-30T20:23:13.452882Z"
        },
        "id": "combined-department",
        "papermill": {
          "duration": 2.113165,
          "end_time": "2021-05-30T20:24:24.027869",
          "exception": false,
          "start_time": "2021-05-30T20:24:21.914704",
          "status": "completed"
        },
        "tags": []
      },
      "outputs": [
        {
          "ename": "ValueError",
          "evalue": "could not convert string to float: 'Supermarket Type2'",
          "output_type": "error",
          "traceback": [
            "\u001b[1;31m---------------------------------------------------------------------------\u001b[0m",
            "\u001b[1;31mValueError\u001b[0m                                Traceback (most recent call last)",
            "\u001b[1;32m~\\AppData\\Local\\Temp\\ipykernel_10972\\2132748480.py\u001b[0m in \u001b[0;36m?\u001b[1;34m()\u001b[0m\n\u001b[0;32m     10\u001b[0m     \u001b[1;33m(\u001b[0m\u001b[1;34m'scaler'\u001b[0m\u001b[1;33m,\u001b[0m \u001b[0mStandardScaler\u001b[0m\u001b[1;33m(\u001b[0m\u001b[1;33m)\u001b[0m\u001b[1;33m)\u001b[0m\u001b[1;33m,\u001b[0m\u001b[1;33m\u001b[0m\u001b[1;33m\u001b[0m\u001b[0m\n\u001b[0;32m     11\u001b[0m     \u001b[1;33m(\u001b[0m\u001b[1;34m'regressor'\u001b[0m\u001b[1;33m,\u001b[0m \u001b[0mRandomForestRegressor\u001b[0m\u001b[1;33m(\u001b[0m\u001b[1;33m)\u001b[0m\u001b[1;33m)\u001b[0m\u001b[1;33m\u001b[0m\u001b[1;33m\u001b[0m\u001b[0m\n\u001b[0;32m     12\u001b[0m ])\n\u001b[0;32m     13\u001b[0m \u001b[1;31m# fit the pipeline with the training data\u001b[0m\u001b[1;33m\u001b[0m\u001b[1;33m\u001b[0m\u001b[0m\n\u001b[1;32m---> 14\u001b[1;33m \u001b[0mpipeline\u001b[0m\u001b[1;33m.\u001b[0m\u001b[0mfit\u001b[0m\u001b[1;33m(\u001b[0m\u001b[0mX_train\u001b[0m\u001b[1;33m,\u001b[0m\u001b[0mY_train\u001b[0m\u001b[1;33m)\u001b[0m\u001b[1;33m\u001b[0m\u001b[1;33m\u001b[0m\u001b[0m\n\u001b[0m\u001b[0;32m     15\u001b[0m \u001b[1;33m\u001b[0m\u001b[0m\n\u001b[0;32m     16\u001b[0m \u001b[1;31m# predict target values on the training data\u001b[0m\u001b[1;33m\u001b[0m\u001b[1;33m\u001b[0m\u001b[0m\n\u001b[0;32m     17\u001b[0m \u001b[1;31m#Write your code here\u001b[0m\u001b[1;33m\u001b[0m\u001b[1;33m\u001b[0m\u001b[0m\n",
            "\u001b[1;32mc:\\Users\\hp\\AppData\\Local\\Programs\\Python\\Python310\\lib\\site-packages\\sklearn\\pipeline.py\u001b[0m in \u001b[0;36m?\u001b[1;34m(self, X, y, **fit_params)\u001b[0m\n\u001b[0;32m    397\u001b[0m         \u001b[0mself\u001b[0m \u001b[1;33m:\u001b[0m \u001b[0mobject\u001b[0m\u001b[1;33m\u001b[0m\u001b[1;33m\u001b[0m\u001b[0m\n\u001b[0;32m    398\u001b[0m             \u001b[0mPipeline\u001b[0m \u001b[1;32mwith\u001b[0m \u001b[0mfitted\u001b[0m \u001b[0msteps\u001b[0m\u001b[1;33m.\u001b[0m\u001b[1;33m\u001b[0m\u001b[1;33m\u001b[0m\u001b[0m\n\u001b[0;32m    399\u001b[0m         \"\"\"\n\u001b[0;32m    400\u001b[0m         \u001b[0mfit_params_steps\u001b[0m \u001b[1;33m=\u001b[0m \u001b[0mself\u001b[0m\u001b[1;33m.\u001b[0m\u001b[0m_check_fit_params\u001b[0m\u001b[1;33m(\u001b[0m\u001b[1;33m**\u001b[0m\u001b[0mfit_params\u001b[0m\u001b[1;33m)\u001b[0m\u001b[1;33m\u001b[0m\u001b[1;33m\u001b[0m\u001b[0m\n\u001b[1;32m--> 401\u001b[1;33m         \u001b[0mXt\u001b[0m \u001b[1;33m=\u001b[0m \u001b[0mself\u001b[0m\u001b[1;33m.\u001b[0m\u001b[0m_fit\u001b[0m\u001b[1;33m(\u001b[0m\u001b[0mX\u001b[0m\u001b[1;33m,\u001b[0m \u001b[0my\u001b[0m\u001b[1;33m,\u001b[0m \u001b[1;33m**\u001b[0m\u001b[0mfit_params_steps\u001b[0m\u001b[1;33m)\u001b[0m\u001b[1;33m\u001b[0m\u001b[1;33m\u001b[0m\u001b[0m\n\u001b[0m\u001b[0;32m    402\u001b[0m         \u001b[1;32mwith\u001b[0m \u001b[0m_print_elapsed_time\u001b[0m\u001b[1;33m(\u001b[0m\u001b[1;34m\"Pipeline\"\u001b[0m\u001b[1;33m,\u001b[0m \u001b[0mself\u001b[0m\u001b[1;33m.\u001b[0m\u001b[0m_log_message\u001b[0m\u001b[1;33m(\u001b[0m\u001b[0mlen\u001b[0m\u001b[1;33m(\u001b[0m\u001b[0mself\u001b[0m\u001b[1;33m.\u001b[0m\u001b[0msteps\u001b[0m\u001b[1;33m)\u001b[0m \u001b[1;33m-\u001b[0m \u001b[1;36m1\u001b[0m\u001b[1;33m)\u001b[0m\u001b[1;33m)\u001b[0m\u001b[1;33m:\u001b[0m\u001b[1;33m\u001b[0m\u001b[1;33m\u001b[0m\u001b[0m\n\u001b[0;32m    403\u001b[0m             \u001b[1;32mif\u001b[0m \u001b[0mself\u001b[0m\u001b[1;33m.\u001b[0m\u001b[0m_final_estimator\u001b[0m \u001b[1;33m!=\u001b[0m \u001b[1;34m\"passthrough\"\u001b[0m\u001b[1;33m:\u001b[0m\u001b[1;33m\u001b[0m\u001b[1;33m\u001b[0m\u001b[0m\n\u001b[0;32m    404\u001b[0m                 \u001b[0mfit_params_last_step\u001b[0m \u001b[1;33m=\u001b[0m \u001b[0mfit_params_steps\u001b[0m\u001b[1;33m[\u001b[0m\u001b[0mself\u001b[0m\u001b[1;33m.\u001b[0m\u001b[0msteps\u001b[0m\u001b[1;33m[\u001b[0m\u001b[1;33m-\u001b[0m\u001b[1;36m1\u001b[0m\u001b[1;33m]\u001b[0m\u001b[1;33m[\u001b[0m\u001b[1;36m0\u001b[0m\u001b[1;33m]\u001b[0m\u001b[1;33m]\u001b[0m\u001b[1;33m\u001b[0m\u001b[1;33m\u001b[0m\u001b[0m\n",
            "\u001b[1;32mc:\\Users\\hp\\AppData\\Local\\Programs\\Python\\Python310\\lib\\site-packages\\sklearn\\pipeline.py\u001b[0m in \u001b[0;36m?\u001b[1;34m(self, X, y, **fit_params_steps)\u001b[0m\n\u001b[0;32m    355\u001b[0m                 \u001b[0mcloned_transformer\u001b[0m \u001b[1;33m=\u001b[0m \u001b[0mtransformer\u001b[0m\u001b[1;33m\u001b[0m\u001b[1;33m\u001b[0m\u001b[0m\n\u001b[0;32m    356\u001b[0m             \u001b[1;32melse\u001b[0m\u001b[1;33m:\u001b[0m\u001b[1;33m\u001b[0m\u001b[1;33m\u001b[0m\u001b[0m\n\u001b[0;32m    357\u001b[0m                 \u001b[0mcloned_transformer\u001b[0m \u001b[1;33m=\u001b[0m \u001b[0mclone\u001b[0m\u001b[1;33m(\u001b[0m\u001b[0mtransformer\u001b[0m\u001b[1;33m)\u001b[0m\u001b[1;33m\u001b[0m\u001b[1;33m\u001b[0m\u001b[0m\n\u001b[0;32m    358\u001b[0m             \u001b[1;31m# Fit or load from cache the current transformer\u001b[0m\u001b[1;33m\u001b[0m\u001b[1;33m\u001b[0m\u001b[0m\n\u001b[1;32m--> 359\u001b[1;33m             X, fitted_transformer = fit_transform_one_cached(\n\u001b[0m\u001b[0;32m    360\u001b[0m                 \u001b[0mcloned_transformer\u001b[0m\u001b[1;33m,\u001b[0m\u001b[1;33m\u001b[0m\u001b[1;33m\u001b[0m\u001b[0m\n\u001b[0;32m    361\u001b[0m                 \u001b[0mX\u001b[0m\u001b[1;33m,\u001b[0m\u001b[1;33m\u001b[0m\u001b[1;33m\u001b[0m\u001b[0m\n\u001b[0;32m    362\u001b[0m                 \u001b[0my\u001b[0m\u001b[1;33m,\u001b[0m\u001b[1;33m\u001b[0m\u001b[1;33m\u001b[0m\u001b[0m\n",
            "\u001b[1;32mc:\\Users\\hp\\AppData\\Local\\Programs\\Python\\Python310\\lib\\site-packages\\joblib\\memory.py\u001b[0m in \u001b[0;36m?\u001b[1;34m(self, *args, **kwargs)\u001b[0m\n\u001b[0;32m    348\u001b[0m     \u001b[1;32mdef\u001b[0m \u001b[0m__call__\u001b[0m\u001b[1;33m(\u001b[0m\u001b[0mself\u001b[0m\u001b[1;33m,\u001b[0m \u001b[1;33m*\u001b[0m\u001b[0margs\u001b[0m\u001b[1;33m,\u001b[0m \u001b[1;33m**\u001b[0m\u001b[0mkwargs\u001b[0m\u001b[1;33m)\u001b[0m\u001b[1;33m:\u001b[0m\u001b[1;33m\u001b[0m\u001b[1;33m\u001b[0m\u001b[0m\n\u001b[1;32m--> 349\u001b[1;33m         \u001b[1;32mreturn\u001b[0m \u001b[0mself\u001b[0m\u001b[1;33m.\u001b[0m\u001b[0mfunc\u001b[0m\u001b[1;33m(\u001b[0m\u001b[1;33m*\u001b[0m\u001b[0margs\u001b[0m\u001b[1;33m,\u001b[0m \u001b[1;33m**\u001b[0m\u001b[0mkwargs\u001b[0m\u001b[1;33m)\u001b[0m\u001b[1;33m\u001b[0m\u001b[1;33m\u001b[0m\u001b[0m\n\u001b[0m",
            "\u001b[1;32mc:\\Users\\hp\\AppData\\Local\\Programs\\Python\\Python310\\lib\\site-packages\\sklearn\\pipeline.py\u001b[0m in \u001b[0;36m?\u001b[1;34m(transformer, X, y, weight, message_clsname, message, **fit_params)\u001b[0m\n\u001b[0;32m    889\u001b[0m     \u001b[0mbe\u001b[0m \u001b[0mmultiplied\u001b[0m \u001b[0mby\u001b[0m\u001b[0;31m \u001b[0m\u001b[0;31m`\u001b[0m\u001b[0;31m`\u001b[0m\u001b[0mweight\u001b[0m\u001b[0;31m`\u001b[0m\u001b[0;31m`\u001b[0m\u001b[1;33m.\u001b[0m\u001b[1;33m\u001b[0m\u001b[1;33m\u001b[0m\u001b[0m\n\u001b[0;32m    890\u001b[0m     \"\"\"\n\u001b[0;32m    891\u001b[0m     \u001b[1;32mwith\u001b[0m \u001b[0m_print_elapsed_time\u001b[0m\u001b[1;33m(\u001b[0m\u001b[0mmessage_clsname\u001b[0m\u001b[1;33m,\u001b[0m \u001b[0mmessage\u001b[0m\u001b[1;33m)\u001b[0m\u001b[1;33m:\u001b[0m\u001b[1;33m\u001b[0m\u001b[1;33m\u001b[0m\u001b[0m\n\u001b[0;32m    892\u001b[0m         \u001b[1;32mif\u001b[0m \u001b[0mhasattr\u001b[0m\u001b[1;33m(\u001b[0m\u001b[0mtransformer\u001b[0m\u001b[1;33m,\u001b[0m \u001b[1;34m\"fit_transform\"\u001b[0m\u001b[1;33m)\u001b[0m\u001b[1;33m:\u001b[0m\u001b[1;33m\u001b[0m\u001b[1;33m\u001b[0m\u001b[0m\n\u001b[1;32m--> 893\u001b[1;33m             \u001b[0mres\u001b[0m \u001b[1;33m=\u001b[0m \u001b[0mtransformer\u001b[0m\u001b[1;33m.\u001b[0m\u001b[0mfit_transform\u001b[0m\u001b[1;33m(\u001b[0m\u001b[0mX\u001b[0m\u001b[1;33m,\u001b[0m \u001b[0my\u001b[0m\u001b[1;33m,\u001b[0m \u001b[1;33m**\u001b[0m\u001b[0mfit_params\u001b[0m\u001b[1;33m)\u001b[0m\u001b[1;33m\u001b[0m\u001b[1;33m\u001b[0m\u001b[0m\n\u001b[0m\u001b[0;32m    894\u001b[0m         \u001b[1;32melse\u001b[0m\u001b[1;33m:\u001b[0m\u001b[1;33m\u001b[0m\u001b[1;33m\u001b[0m\u001b[0m\n\u001b[0;32m    895\u001b[0m             \u001b[0mres\u001b[0m \u001b[1;33m=\u001b[0m \u001b[0mtransformer\u001b[0m\u001b[1;33m.\u001b[0m\u001b[0mfit\u001b[0m\u001b[1;33m(\u001b[0m\u001b[0mX\u001b[0m\u001b[1;33m,\u001b[0m \u001b[0my\u001b[0m\u001b[1;33m,\u001b[0m \u001b[1;33m**\u001b[0m\u001b[0mfit_params\u001b[0m\u001b[1;33m)\u001b[0m\u001b[1;33m.\u001b[0m\u001b[0mtransform\u001b[0m\u001b[1;33m(\u001b[0m\u001b[0mX\u001b[0m\u001b[1;33m)\u001b[0m\u001b[1;33m\u001b[0m\u001b[1;33m\u001b[0m\u001b[0m\n\u001b[0;32m    896\u001b[0m \u001b[1;33m\u001b[0m\u001b[0m\n",
            "\u001b[1;32mc:\\Users\\hp\\AppData\\Local\\Programs\\Python\\Python310\\lib\\site-packages\\sklearn\\utils\\_set_output.py\u001b[0m in \u001b[0;36m?\u001b[1;34m(self, X, *args, **kwargs)\u001b[0m\n\u001b[0;32m    138\u001b[0m     \u001b[1;33m@\u001b[0m\u001b[0mwraps\u001b[0m\u001b[1;33m(\u001b[0m\u001b[0mf\u001b[0m\u001b[1;33m)\u001b[0m\u001b[1;33m\u001b[0m\u001b[1;33m\u001b[0m\u001b[0m\n\u001b[0;32m    139\u001b[0m     \u001b[1;32mdef\u001b[0m \u001b[0mwrapped\u001b[0m\u001b[1;33m(\u001b[0m\u001b[0mself\u001b[0m\u001b[1;33m,\u001b[0m \u001b[0mX\u001b[0m\u001b[1;33m,\u001b[0m \u001b[1;33m*\u001b[0m\u001b[0margs\u001b[0m\u001b[1;33m,\u001b[0m \u001b[1;33m**\u001b[0m\u001b[0mkwargs\u001b[0m\u001b[1;33m)\u001b[0m\u001b[1;33m:\u001b[0m\u001b[1;33m\u001b[0m\u001b[1;33m\u001b[0m\u001b[0m\n\u001b[1;32m--> 140\u001b[1;33m         \u001b[0mdata_to_wrap\u001b[0m \u001b[1;33m=\u001b[0m \u001b[0mf\u001b[0m\u001b[1;33m(\u001b[0m\u001b[0mself\u001b[0m\u001b[1;33m,\u001b[0m \u001b[0mX\u001b[0m\u001b[1;33m,\u001b[0m \u001b[1;33m*\u001b[0m\u001b[0margs\u001b[0m\u001b[1;33m,\u001b[0m \u001b[1;33m**\u001b[0m\u001b[0mkwargs\u001b[0m\u001b[1;33m)\u001b[0m\u001b[1;33m\u001b[0m\u001b[1;33m\u001b[0m\u001b[0m\n\u001b[0m\u001b[0;32m    141\u001b[0m         \u001b[1;32mif\u001b[0m \u001b[0misinstance\u001b[0m\u001b[1;33m(\u001b[0m\u001b[0mdata_to_wrap\u001b[0m\u001b[1;33m,\u001b[0m \u001b[0mtuple\u001b[0m\u001b[1;33m)\u001b[0m\u001b[1;33m:\u001b[0m\u001b[1;33m\u001b[0m\u001b[1;33m\u001b[0m\u001b[0m\n\u001b[0;32m    142\u001b[0m             \u001b[1;31m# only wrap the first output for cross decomposition\u001b[0m\u001b[1;33m\u001b[0m\u001b[1;33m\u001b[0m\u001b[0m\n\u001b[0;32m    143\u001b[0m             return (\n",
            "\u001b[1;32mc:\\Users\\hp\\AppData\\Local\\Programs\\Python\\Python310\\lib\\site-packages\\sklearn\\base.py\u001b[0m in \u001b[0;36m?\u001b[1;34m(self, X, y, **fit_params)\u001b[0m\n\u001b[0;32m    877\u001b[0m             \u001b[1;31m# fit method of arity 1 (unsupervised transformation)\u001b[0m\u001b[1;33m\u001b[0m\u001b[1;33m\u001b[0m\u001b[0m\n\u001b[0;32m    878\u001b[0m             \u001b[1;32mreturn\u001b[0m \u001b[0mself\u001b[0m\u001b[1;33m.\u001b[0m\u001b[0mfit\u001b[0m\u001b[1;33m(\u001b[0m\u001b[0mX\u001b[0m\u001b[1;33m,\u001b[0m \u001b[1;33m**\u001b[0m\u001b[0mfit_params\u001b[0m\u001b[1;33m)\u001b[0m\u001b[1;33m.\u001b[0m\u001b[0mtransform\u001b[0m\u001b[1;33m(\u001b[0m\u001b[0mX\u001b[0m\u001b[1;33m)\u001b[0m\u001b[1;33m\u001b[0m\u001b[1;33m\u001b[0m\u001b[0m\n\u001b[0;32m    879\u001b[0m         \u001b[1;32melse\u001b[0m\u001b[1;33m:\u001b[0m\u001b[1;33m\u001b[0m\u001b[1;33m\u001b[0m\u001b[0m\n\u001b[0;32m    880\u001b[0m             \u001b[1;31m# fit method of arity 2 (supervised transformation)\u001b[0m\u001b[1;33m\u001b[0m\u001b[1;33m\u001b[0m\u001b[0m\n\u001b[1;32m--> 881\u001b[1;33m             \u001b[1;32mreturn\u001b[0m \u001b[0mself\u001b[0m\u001b[1;33m.\u001b[0m\u001b[0mfit\u001b[0m\u001b[1;33m(\u001b[0m\u001b[0mX\u001b[0m\u001b[1;33m,\u001b[0m \u001b[0my\u001b[0m\u001b[1;33m,\u001b[0m \u001b[1;33m**\u001b[0m\u001b[0mfit_params\u001b[0m\u001b[1;33m)\u001b[0m\u001b[1;33m.\u001b[0m\u001b[0mtransform\u001b[0m\u001b[1;33m(\u001b[0m\u001b[0mX\u001b[0m\u001b[1;33m)\u001b[0m\u001b[1;33m\u001b[0m\u001b[1;33m\u001b[0m\u001b[0m\n\u001b[0m",
            "\u001b[1;32mc:\\Users\\hp\\AppData\\Local\\Programs\\Python\\Python310\\lib\\site-packages\\sklearn\\preprocessing\\_data.py\u001b[0m in \u001b[0;36m?\u001b[1;34m(self, X, y, sample_weight)\u001b[0m\n\u001b[0;32m    820\u001b[0m             \u001b[0mFitted\u001b[0m \u001b[0mscaler\u001b[0m\u001b[1;33m.\u001b[0m\u001b[1;33m\u001b[0m\u001b[1;33m\u001b[0m\u001b[0m\n\u001b[0;32m    821\u001b[0m         \"\"\"\n\u001b[0;32m    822\u001b[0m         \u001b[1;31m# Reset internal state before fitting\u001b[0m\u001b[1;33m\u001b[0m\u001b[1;33m\u001b[0m\u001b[0m\n\u001b[0;32m    823\u001b[0m         \u001b[0mself\u001b[0m\u001b[1;33m.\u001b[0m\u001b[0m_reset\u001b[0m\u001b[1;33m(\u001b[0m\u001b[1;33m)\u001b[0m\u001b[1;33m\u001b[0m\u001b[1;33m\u001b[0m\u001b[0m\n\u001b[1;32m--> 824\u001b[1;33m         \u001b[1;32mreturn\u001b[0m \u001b[0mself\u001b[0m\u001b[1;33m.\u001b[0m\u001b[0mpartial_fit\u001b[0m\u001b[1;33m(\u001b[0m\u001b[0mX\u001b[0m\u001b[1;33m,\u001b[0m \u001b[0my\u001b[0m\u001b[1;33m,\u001b[0m \u001b[0msample_weight\u001b[0m\u001b[1;33m)\u001b[0m\u001b[1;33m\u001b[0m\u001b[1;33m\u001b[0m\u001b[0m\n\u001b[0m",
            "\u001b[1;32mc:\\Users\\hp\\AppData\\Local\\Programs\\Python\\Python310\\lib\\site-packages\\sklearn\\preprocessing\\_data.py\u001b[0m in \u001b[0;36m?\u001b[1;34m(self, X, y, sample_weight)\u001b[0m\n\u001b[0;32m    857\u001b[0m         \"\"\"\n\u001b[0;32m    858\u001b[0m         \u001b[0mself\u001b[0m\u001b[1;33m.\u001b[0m\u001b[0m_validate_params\u001b[0m\u001b[1;33m(\u001b[0m\u001b[1;33m)\u001b[0m\u001b[1;33m\u001b[0m\u001b[1;33m\u001b[0m\u001b[0m\n\u001b[0;32m    859\u001b[0m \u001b[1;33m\u001b[0m\u001b[0m\n\u001b[0;32m    860\u001b[0m         \u001b[0mfirst_call\u001b[0m \u001b[1;33m=\u001b[0m \u001b[1;32mnot\u001b[0m \u001b[0mhasattr\u001b[0m\u001b[1;33m(\u001b[0m\u001b[0mself\u001b[0m\u001b[1;33m,\u001b[0m \u001b[1;34m\"n_samples_seen_\"\u001b[0m\u001b[1;33m)\u001b[0m\u001b[1;33m\u001b[0m\u001b[1;33m\u001b[0m\u001b[0m\n\u001b[1;32m--> 861\u001b[1;33m         X = self._validate_data(\n\u001b[0m\u001b[0;32m    862\u001b[0m             \u001b[0mX\u001b[0m\u001b[1;33m,\u001b[0m\u001b[1;33m\u001b[0m\u001b[1;33m\u001b[0m\u001b[0m\n\u001b[0;32m    863\u001b[0m             \u001b[0maccept_sparse\u001b[0m\u001b[1;33m=\u001b[0m\u001b[1;33m(\u001b[0m\u001b[1;34m\"csr\"\u001b[0m\u001b[1;33m,\u001b[0m \u001b[1;34m\"csc\"\u001b[0m\u001b[1;33m)\u001b[0m\u001b[1;33m,\u001b[0m\u001b[1;33m\u001b[0m\u001b[1;33m\u001b[0m\u001b[0m\n\u001b[0;32m    864\u001b[0m             \u001b[0mdtype\u001b[0m\u001b[1;33m=\u001b[0m\u001b[0mFLOAT_DTYPES\u001b[0m\u001b[1;33m,\u001b[0m\u001b[1;33m\u001b[0m\u001b[1;33m\u001b[0m\u001b[0m\n",
            "\u001b[1;32mc:\\Users\\hp\\AppData\\Local\\Programs\\Python\\Python310\\lib\\site-packages\\sklearn\\base.py\u001b[0m in \u001b[0;36m?\u001b[1;34m(self, X, y, reset, validate_separately, **check_params)\u001b[0m\n\u001b[0;32m    561\u001b[0m \u001b[1;33m\u001b[0m\u001b[0m\n\u001b[0;32m    562\u001b[0m         \u001b[1;32mif\u001b[0m \u001b[0mno_val_X\u001b[0m \u001b[1;32mand\u001b[0m \u001b[0mno_val_y\u001b[0m\u001b[1;33m:\u001b[0m\u001b[1;33m\u001b[0m\u001b[1;33m\u001b[0m\u001b[0m\n\u001b[0;32m    563\u001b[0m             \u001b[1;32mraise\u001b[0m \u001b[0mValueError\u001b[0m\u001b[1;33m(\u001b[0m\u001b[1;34m\"Validation should be done on X, y or both.\"\u001b[0m\u001b[1;33m)\u001b[0m\u001b[1;33m\u001b[0m\u001b[1;33m\u001b[0m\u001b[0m\n\u001b[0;32m    564\u001b[0m         \u001b[1;32melif\u001b[0m \u001b[1;32mnot\u001b[0m \u001b[0mno_val_X\u001b[0m \u001b[1;32mand\u001b[0m \u001b[0mno_val_y\u001b[0m\u001b[1;33m:\u001b[0m\u001b[1;33m\u001b[0m\u001b[1;33m\u001b[0m\u001b[0m\n\u001b[1;32m--> 565\u001b[1;33m             \u001b[0mX\u001b[0m \u001b[1;33m=\u001b[0m \u001b[0mcheck_array\u001b[0m\u001b[1;33m(\u001b[0m\u001b[0mX\u001b[0m\u001b[1;33m,\u001b[0m \u001b[0minput_name\u001b[0m\u001b[1;33m=\u001b[0m\u001b[1;34m\"X\"\u001b[0m\u001b[1;33m,\u001b[0m \u001b[1;33m**\u001b[0m\u001b[0mcheck_params\u001b[0m\u001b[1;33m)\u001b[0m\u001b[1;33m\u001b[0m\u001b[1;33m\u001b[0m\u001b[0m\n\u001b[0m\u001b[0;32m    566\u001b[0m             \u001b[0mout\u001b[0m \u001b[1;33m=\u001b[0m \u001b[0mX\u001b[0m\u001b[1;33m\u001b[0m\u001b[1;33m\u001b[0m\u001b[0m\n\u001b[0;32m    567\u001b[0m         \u001b[1;32melif\u001b[0m \u001b[0mno_val_X\u001b[0m \u001b[1;32mand\u001b[0m \u001b[1;32mnot\u001b[0m \u001b[0mno_val_y\u001b[0m\u001b[1;33m:\u001b[0m\u001b[1;33m\u001b[0m\u001b[1;33m\u001b[0m\u001b[0m\n\u001b[0;32m    568\u001b[0m             \u001b[0my\u001b[0m \u001b[1;33m=\u001b[0m \u001b[0m_check_y\u001b[0m\u001b[1;33m(\u001b[0m\u001b[0my\u001b[0m\u001b[1;33m,\u001b[0m \u001b[1;33m**\u001b[0m\u001b[0mcheck_params\u001b[0m\u001b[1;33m)\u001b[0m\u001b[1;33m\u001b[0m\u001b[1;33m\u001b[0m\u001b[0m\n",
            "\u001b[1;32mc:\\Users\\hp\\AppData\\Local\\Programs\\Python\\Python310\\lib\\site-packages\\sklearn\\utils\\validation.py\u001b[0m in \u001b[0;36m?\u001b[1;34m(array, accept_sparse, accept_large_sparse, dtype, order, copy, force_all_finite, ensure_2d, allow_nd, ensure_min_samples, ensure_min_features, estimator, input_name)\u001b[0m\n\u001b[0;32m    876\u001b[0m                         )\n\u001b[0;32m    877\u001b[0m                     \u001b[0marray\u001b[0m \u001b[1;33m=\u001b[0m \u001b[0mxp\u001b[0m\u001b[1;33m.\u001b[0m\u001b[0mastype\u001b[0m\u001b[1;33m(\u001b[0m\u001b[0marray\u001b[0m\u001b[1;33m,\u001b[0m \u001b[0mdtype\u001b[0m\u001b[1;33m,\u001b[0m \u001b[0mcopy\u001b[0m\u001b[1;33m=\u001b[0m\u001b[1;32mFalse\u001b[0m\u001b[1;33m)\u001b[0m\u001b[1;33m\u001b[0m\u001b[1;33m\u001b[0m\u001b[0m\n\u001b[0;32m    878\u001b[0m                 \u001b[1;32melse\u001b[0m\u001b[1;33m:\u001b[0m\u001b[1;33m\u001b[0m\u001b[1;33m\u001b[0m\u001b[0m\n\u001b[0;32m    879\u001b[0m                     \u001b[0marray\u001b[0m \u001b[1;33m=\u001b[0m \u001b[0m_asarray_with_order\u001b[0m\u001b[1;33m(\u001b[0m\u001b[0marray\u001b[0m\u001b[1;33m,\u001b[0m \u001b[0morder\u001b[0m\u001b[1;33m=\u001b[0m\u001b[0morder\u001b[0m\u001b[1;33m,\u001b[0m \u001b[0mdtype\u001b[0m\u001b[1;33m=\u001b[0m\u001b[0mdtype\u001b[0m\u001b[1;33m,\u001b[0m \u001b[0mxp\u001b[0m\u001b[1;33m=\u001b[0m\u001b[0mxp\u001b[0m\u001b[1;33m)\u001b[0m\u001b[1;33m\u001b[0m\u001b[1;33m\u001b[0m\u001b[0m\n\u001b[1;32m--> 880\u001b[1;33m             \u001b[1;32mexcept\u001b[0m \u001b[0mComplexWarning\u001b[0m \u001b[1;32mas\u001b[0m \u001b[0mcomplex_warning\u001b[0m\u001b[1;33m:\u001b[0m\u001b[1;33m\u001b[0m\u001b[1;33m\u001b[0m\u001b[0m\n\u001b[0m\u001b[0;32m    881\u001b[0m                 raise ValueError(\n\u001b[0;32m    882\u001b[0m                     \u001b[1;34m\"Complex data not supported\\n{}\\n\"\u001b[0m\u001b[1;33m.\u001b[0m\u001b[0mformat\u001b[0m\u001b[1;33m(\u001b[0m\u001b[0marray\u001b[0m\u001b[1;33m)\u001b[0m\u001b[1;33m\u001b[0m\u001b[1;33m\u001b[0m\u001b[0m\n\u001b[0;32m    883\u001b[0m                 ) from complex_warning\n",
            "\u001b[1;32mc:\\Users\\hp\\AppData\\Local\\Programs\\Python\\Python310\\lib\\site-packages\\sklearn\\utils\\_array_api.py\u001b[0m in \u001b[0;36m?\u001b[1;34m(array, dtype, order, copy, xp)\u001b[0m\n\u001b[0;32m    181\u001b[0m     \u001b[1;32mif\u001b[0m \u001b[0mxp\u001b[0m \u001b[1;32mis\u001b[0m \u001b[1;32mNone\u001b[0m\u001b[1;33m:\u001b[0m\u001b[1;33m\u001b[0m\u001b[1;33m\u001b[0m\u001b[0m\n\u001b[0;32m    182\u001b[0m         \u001b[0mxp\u001b[0m\u001b[1;33m,\u001b[0m \u001b[0m_\u001b[0m \u001b[1;33m=\u001b[0m \u001b[0mget_namespace\u001b[0m\u001b[1;33m(\u001b[0m\u001b[0marray\u001b[0m\u001b[1;33m)\u001b[0m\u001b[1;33m\u001b[0m\u001b[1;33m\u001b[0m\u001b[0m\n\u001b[0;32m    183\u001b[0m     \u001b[1;32mif\u001b[0m \u001b[0mxp\u001b[0m\u001b[1;33m.\u001b[0m\u001b[0m__name__\u001b[0m \u001b[1;32min\u001b[0m \u001b[1;33m{\u001b[0m\u001b[1;34m\"numpy\"\u001b[0m\u001b[1;33m,\u001b[0m \u001b[1;34m\"numpy.array_api\"\u001b[0m\u001b[1;33m}\u001b[0m\u001b[1;33m:\u001b[0m\u001b[1;33m\u001b[0m\u001b[1;33m\u001b[0m\u001b[0m\n\u001b[0;32m    184\u001b[0m         \u001b[1;31m# Use NumPy API to support order\u001b[0m\u001b[1;33m\u001b[0m\u001b[1;33m\u001b[0m\u001b[0m\n\u001b[1;32m--> 185\u001b[1;33m         \u001b[0marray\u001b[0m \u001b[1;33m=\u001b[0m \u001b[0mnumpy\u001b[0m\u001b[1;33m.\u001b[0m\u001b[0masarray\u001b[0m\u001b[1;33m(\u001b[0m\u001b[0marray\u001b[0m\u001b[1;33m,\u001b[0m \u001b[0morder\u001b[0m\u001b[1;33m=\u001b[0m\u001b[0morder\u001b[0m\u001b[1;33m,\u001b[0m \u001b[0mdtype\u001b[0m\u001b[1;33m=\u001b[0m\u001b[0mdtype\u001b[0m\u001b[1;33m)\u001b[0m\u001b[1;33m\u001b[0m\u001b[1;33m\u001b[0m\u001b[0m\n\u001b[0m\u001b[0;32m    186\u001b[0m         \u001b[1;32mreturn\u001b[0m \u001b[0mxp\u001b[0m\u001b[1;33m.\u001b[0m\u001b[0masarray\u001b[0m\u001b[1;33m(\u001b[0m\u001b[0marray\u001b[0m\u001b[1;33m,\u001b[0m \u001b[0mcopy\u001b[0m\u001b[1;33m=\u001b[0m\u001b[0mcopy\u001b[0m\u001b[1;33m)\u001b[0m\u001b[1;33m\u001b[0m\u001b[1;33m\u001b[0m\u001b[0m\n\u001b[0;32m    187\u001b[0m     \u001b[1;32melse\u001b[0m\u001b[1;33m:\u001b[0m\u001b[1;33m\u001b[0m\u001b[1;33m\u001b[0m\u001b[0m\n\u001b[0;32m    188\u001b[0m         \u001b[1;32mreturn\u001b[0m \u001b[0mxp\u001b[0m\u001b[1;33m.\u001b[0m\u001b[0masarray\u001b[0m\u001b[1;33m(\u001b[0m\u001b[0marray\u001b[0m\u001b[1;33m,\u001b[0m \u001b[0mdtype\u001b[0m\u001b[1;33m=\u001b[0m\u001b[0mdtype\u001b[0m\u001b[1;33m,\u001b[0m \u001b[0mcopy\u001b[0m\u001b[1;33m=\u001b[0m\u001b[0mcopy\u001b[0m\u001b[1;33m)\u001b[0m\u001b[1;33m\u001b[0m\u001b[1;33m\u001b[0m\u001b[0m\n",
            "\u001b[1;32mc:\\Users\\hp\\AppData\\Local\\Programs\\Python\\Python310\\lib\\site-packages\\pandas\\core\\generic.py\u001b[0m in \u001b[0;36m?\u001b[1;34m(self, dtype)\u001b[0m\n\u001b[0;32m   1996\u001b[0m     \u001b[1;32mdef\u001b[0m \u001b[0m__array__\u001b[0m\u001b[1;33m(\u001b[0m\u001b[0mself\u001b[0m\u001b[1;33m,\u001b[0m \u001b[0mdtype\u001b[0m\u001b[1;33m:\u001b[0m \u001b[0mnpt\u001b[0m\u001b[1;33m.\u001b[0m\u001b[0mDTypeLike\u001b[0m \u001b[1;33m|\u001b[0m \u001b[1;32mNone\u001b[0m \u001b[1;33m=\u001b[0m \u001b[1;32mNone\u001b[0m\u001b[1;33m)\u001b[0m \u001b[1;33m->\u001b[0m \u001b[0mnp\u001b[0m\u001b[1;33m.\u001b[0m\u001b[0mndarray\u001b[0m\u001b[1;33m:\u001b[0m\u001b[1;33m\u001b[0m\u001b[1;33m\u001b[0m\u001b[0m\n\u001b[0;32m   1997\u001b[0m         \u001b[0mvalues\u001b[0m \u001b[1;33m=\u001b[0m \u001b[0mself\u001b[0m\u001b[1;33m.\u001b[0m\u001b[0m_values\u001b[0m\u001b[1;33m\u001b[0m\u001b[1;33m\u001b[0m\u001b[0m\n\u001b[1;32m-> 1998\u001b[1;33m         \u001b[0marr\u001b[0m \u001b[1;33m=\u001b[0m \u001b[0mnp\u001b[0m\u001b[1;33m.\u001b[0m\u001b[0masarray\u001b[0m\u001b[1;33m(\u001b[0m\u001b[0mvalues\u001b[0m\u001b[1;33m,\u001b[0m \u001b[0mdtype\u001b[0m\u001b[1;33m=\u001b[0m\u001b[0mdtype\u001b[0m\u001b[1;33m)\u001b[0m\u001b[1;33m\u001b[0m\u001b[1;33m\u001b[0m\u001b[0m\n\u001b[0m\u001b[0;32m   1999\u001b[0m         if (\n\u001b[0;32m   2000\u001b[0m             \u001b[0mastype_is_view\u001b[0m\u001b[1;33m(\u001b[0m\u001b[0mvalues\u001b[0m\u001b[1;33m.\u001b[0m\u001b[0mdtype\u001b[0m\u001b[1;33m,\u001b[0m \u001b[0marr\u001b[0m\u001b[1;33m.\u001b[0m\u001b[0mdtype\u001b[0m\u001b[1;33m)\u001b[0m\u001b[1;33m\u001b[0m\u001b[1;33m\u001b[0m\u001b[0m\n\u001b[0;32m   2001\u001b[0m             \u001b[1;32mand\u001b[0m \u001b[0musing_copy_on_write\u001b[0m\u001b[1;33m(\u001b[0m\u001b[1;33m)\u001b[0m\u001b[1;33m\u001b[0m\u001b[1;33m\u001b[0m\u001b[0m\n",
            "\u001b[1;31mValueError\u001b[0m: could not convert string to float: 'Supermarket Type2'"
          ]
        }
      ],
      "source": [
        "X_train, X_validate, Y_train, Y_validate = train_test_split(X, y, test_size=0.25, random_state=42)\n",
        "# Define the Pipeline\n",
        "\"\"\"\n",
        "Step1: get the oultet binary columns\n",
        "Step2: pre processing\n",
        "Step3: Train a Random Forest Model\n",
        "\"\"\"\n",
        "pipeline = Pipeline([\n",
        "    ('outlet_encoder', OutletTypeEncoder()),\n",
        "    ('scaler', StandardScaler()),\n",
        "    ('regressor', RandomForestRegressor())\n",
        "])\n",
        "# fit the pipeline with the training data\n",
        "pipeline.fit(X_train,Y_train)\n",
        "\n",
        "# predict target values on the training data\n",
        "#Write your code here\n",
        "train_predictions = pipeline.predict(X_validate)"
      ]
    },
    {
      "cell_type": "markdown",
      "id": "willing-handy",
      "metadata": {
        "id": "willing-handy",
        "papermill": {
          "duration": 0.028503,
          "end_time": "2021-05-30T20:24:24.084460",
          "exception": false,
          "start_time": "2021-05-30T20:24:24.055957",
          "status": "completed"
        },
        "tags": []
      },
      "source": [
        "Now, we will read the test data set and we call predict function only on the pipeline object to make predictions on the test data."
      ]
    },
    {
      "cell_type": "code",
      "execution_count": null,
      "id": "neural-assistant",
      "metadata": {
        "execution": {
          "iopub.execute_input": "2021-05-30T20:24:24.143791Z",
          "iopub.status.busy": "2021-05-30T20:24:24.143316Z",
          "iopub.status.idle": "2021-05-30T20:24:24.242864Z",
          "shell.execute_reply": "2021-05-30T20:24:24.243228Z",
          "shell.execute_reply.started": "2021-05-30T20:23:15.238457Z"
        },
        "id": "neural-assistant",
        "papermill": {
          "duration": 0.131076,
          "end_time": "2021-05-30T20:24:24.243366",
          "exception": false,
          "start_time": "2021-05-30T20:24:24.112290",
          "status": "completed"
        },
        "tags": []
      },
      "outputs": [],
      "source": [
        "# read the test data\n",
        "test = pd.read_csv(\"/content/Test.csv\")"
      ]
    },
    {
      "cell_type": "code",
      "execution_count": null,
      "id": "continued-finland",
      "metadata": {
        "execution": {
          "iopub.execute_input": "2021-05-30T20:24:24.305349Z",
          "iopub.status.busy": "2021-05-30T20:24:24.304669Z",
          "iopub.status.idle": "2021-05-30T20:24:24.308251Z",
          "shell.execute_reply": "2021-05-30T20:24:24.307781Z",
          "shell.execute_reply.started": "2021-05-30T20:23:15.366415Z"
        },
        "id": "continued-finland",
        "papermill": {
          "duration": 0.036177,
          "end_time": "2021-05-30T20:24:24.308350",
          "exception": false,
          "start_time": "2021-05-30T20:24:24.272173",
          "status": "completed"
        },
        "tags": []
      },
      "outputs": [],
      "source": [
        "# predict target variables on the test data \n",
        "y_sub = pipeline.predict(test)\n",
        "y_sub"
      ]
    },
    {
      "cell_type": "code",
      "execution_count": null,
      "id": "exceptional-prospect",
      "metadata": {
        "execution": {
          "iopub.execute_input": "2021-05-30T20:24:24.369391Z",
          "iopub.status.busy": "2021-05-30T20:24:24.368734Z",
          "iopub.status.idle": "2021-05-30T20:24:24.396891Z",
          "shell.execute_reply": "2021-05-30T20:24:24.397300Z",
          "shell.execute_reply.started": "2021-05-30T20:23:15.373883Z"
        },
        "id": "exceptional-prospect",
        "outputId": "11347a1f-0d18-458c-f176-0e70bb86c464",
        "papermill": {
          "duration": 0.059869,
          "end_time": "2021-05-30T20:24:24.397449",
          "exception": false,
          "start_time": "2021-05-30T20:24:24.337580",
          "status": "completed"
        },
        "tags": []
      },
      "outputs": [
        {
          "data": {
            "text/html": [
              "<div>\n",
              "<style scoped>\n",
              "    .dataframe tbody tr th:only-of-type {\n",
              "        vertical-align: middle;\n",
              "    }\n",
              "\n",
              "    .dataframe tbody tr th {\n",
              "        vertical-align: top;\n",
              "    }\n",
              "\n",
              "    .dataframe thead th {\n",
              "        text-align: right;\n",
              "    }\n",
              "</style>\n",
              "<table border=\"1\" class=\"dataframe\">\n",
              "  <thead>\n",
              "    <tr style=\"text-align: right;\">\n",
              "      <th></th>\n",
              "      <th>Unnamed: 0</th>\n",
              "      <th>Item_Identifier</th>\n",
              "      <th>Outlet_Identifier</th>\n",
              "      <th>Item_Outlet_Sales</th>\n",
              "    </tr>\n",
              "  </thead>\n",
              "  <tbody>\n",
              "    <tr>\n",
              "      <th>0</th>\n",
              "      <td>0</td>\n",
              "      <td>FDW58</td>\n",
              "      <td>OUT049</td>\n",
              "      <td>1646.054836</td>\n",
              "    </tr>\n",
              "    <tr>\n",
              "      <th>1</th>\n",
              "      <td>1</td>\n",
              "      <td>FDW14</td>\n",
              "      <td>OUT017</td>\n",
              "      <td>1305.429801</td>\n",
              "    </tr>\n",
              "    <tr>\n",
              "      <th>2</th>\n",
              "      <td>2</td>\n",
              "      <td>NCN55</td>\n",
              "      <td>OUT010</td>\n",
              "      <td>658.423251</td>\n",
              "    </tr>\n",
              "    <tr>\n",
              "      <th>3</th>\n",
              "      <td>3</td>\n",
              "      <td>FDQ58</td>\n",
              "      <td>OUT017</td>\n",
              "      <td>2333.948545</td>\n",
              "    </tr>\n",
              "    <tr>\n",
              "      <th>4</th>\n",
              "      <td>4</td>\n",
              "      <td>FDY38</td>\n",
              "      <td>OUT027</td>\n",
              "      <td>5954.092896</td>\n",
              "    </tr>\n",
              "  </tbody>\n",
              "</table>\n",
              "</div>"
            ],
            "text/plain": [
              "   Unnamed: 0 Item_Identifier Outlet_Identifier  Item_Outlet_Sales\n",
              "0           0           FDW58            OUT049        1646.054836\n",
              "1           1           FDW14            OUT017        1305.429801\n",
              "2           2           NCN55            OUT010         658.423251\n",
              "3           3           FDQ58            OUT017        2333.948545\n",
              "4           4           FDY38            OUT027        5954.092896"
            ]
          },
          "execution_count": 24,
          "metadata": {},
          "output_type": "execute_result"
        }
      ],
      "source": [
        "sub = pd.read_csv(\"Submission.csv\")\n",
        "sub[\"Item_Outlet_Sales\"] = y_sub\n",
        "sub.head()"
      ]
    },
    {
      "cell_type": "code",
      "execution_count": null,
      "id": "loved-paint",
      "metadata": {
        "_kg_hide-input": false,
        "execution": {
          "iopub.execute_input": "2021-05-30T20:24:24.456450Z",
          "iopub.status.busy": "2021-05-30T20:24:24.456009Z",
          "iopub.status.idle": "2021-05-30T20:24:24.477730Z",
          "shell.execute_reply": "2021-05-30T20:24:24.477294Z",
          "shell.execute_reply.started": "2021-05-30T20:23:15.411902Z"
        },
        "id": "loved-paint",
        "papermill": {
          "duration": 0.052272,
          "end_time": "2021-05-30T20:24:24.477831",
          "exception": false,
          "start_time": "2021-05-30T20:24:24.425559",
          "status": "completed"
        },
        "tags": []
      },
      "outputs": [],
      "source": [
        "sub.to_csv(\"submission.csv\", index=False)"
      ]
    }
  ],
  "metadata": {
    "colab": {
      "provenance": []
    },
    "kernelspec": {
      "display_name": "Python 3",
      "language": "python",
      "name": "python3"
    },
    "language_info": {
      "codemirror_mode": {
        "name": "ipython",
        "version": 3
      },
      "file_extension": ".py",
      "mimetype": "text/x-python",
      "name": "python",
      "nbconvert_exporter": "python",
      "pygments_lexer": "ipython3",
      "version": "3.10.6"
    },
    "papermill": {
      "default_parameters": {},
      "duration": 16.990106,
      "end_time": "2021-05-30T20:24:25.114297",
      "environment_variables": {},
      "exception": null,
      "input_path": "__notebook__.ipynb",
      "output_path": "__notebook__.ipynb",
      "parameters": {},
      "start_time": "2021-05-30T20:24:08.124191",
      "version": "2.3.2"
    }
  },
  "nbformat": 4,
  "nbformat_minor": 5
}
